{
  "cells": [
    {
      "cell_type": "markdown",
      "metadata": {
        "id": "view-in-github",
        "colab_type": "text"
      },
      "source": [
        "<a href=\"https://colab.research.google.com/github/Anilir/20191247-/blob/main/3%EC%A3%BC%EC%B0%A8%20Python%20%EA%B8%B0%EB%B3%B8.ipynb\" target=\"_parent\"><img src=\"https://colab.research.google.com/assets/colab-badge.svg\" alt=\"Open In Colab\"/></a>"
      ]
    },
    {
      "cell_type": "code",
      "execution_count": null,
      "metadata": {
        "id": "Sh6Pfwfi0_tV"
      },
      "outputs": [],
      "source": [
        "strVal = 'data science'\n",
        "nVal = 12345\n",
        "fVal = 1.2\n",
        "lVal = ['data', 'science']\n",
        "dVal = {'lecture' : 'data science'}\n",
        "bVal = True"
      ]
    },
    {
      "cell_type": "code",
      "execution_count": null,
      "metadata": {
        "id": "T8w3TfaH0_tY"
      },
      "outputs": [],
      "source": [
        "# 기본적인 주석"
      ]
    },
    {
      "cell_type": "code",
      "execution_count": null,
      "metadata": {
        "id": "YjbBRavv0_tZ",
        "outputId": "c92479cd-a477-46bc-9495-0155f6c3ef5a"
      },
      "outputs": [
        {
          "data": {
            "text/plain": [
              "' \\n이런 형태의 주석도 많이 사용\\n'"
            ]
          },
          "execution_count": 61,
          "metadata": {},
          "output_type": "execute_result"
        }
      ],
      "source": [
        "''' \n",
        "이런 형태의 주석도 많이 사용\n",
        "'''"
      ]
    },
    {
      "cell_type": "code",
      "execution_count": null,
      "metadata": {
        "id": "F_shwW4N0_tc",
        "outputId": "1d761490-dc19-4428-eca3-ac98a05dcee6"
      },
      "outputs": [
        {
          "data": {
            "text/plain": [
              "'data science'"
            ]
          },
          "execution_count": 59,
          "metadata": {},
          "output_type": "execute_result"
        }
      ],
      "source": [
        "strVal"
      ]
    },
    {
      "cell_type": "code",
      "execution_count": null,
      "metadata": {
        "id": "VDVGfJL10_td",
        "outputId": "ee840477-3473-49fe-f8c1-8f8b7077f83e"
      },
      "outputs": [
        {
          "data": {
            "text/plain": [
              "12345"
            ]
          },
          "execution_count": 15,
          "metadata": {},
          "output_type": "execute_result"
        }
      ],
      "source": [
        "nVal"
      ]
    },
    {
      "cell_type": "code",
      "execution_count": null,
      "metadata": {
        "id": "9fFj-siI0_td",
        "outputId": "f66b8b9f-3409-4443-9de1-3e2caae5ae9f"
      },
      "outputs": [
        {
          "data": {
            "text/plain": [
              "1.2"
            ]
          },
          "execution_count": 16,
          "metadata": {},
          "output_type": "execute_result"
        }
      ],
      "source": [
        "fVal"
      ]
    },
    {
      "cell_type": "code",
      "execution_count": null,
      "metadata": {
        "id": "CcW5Cu8Z0_te",
        "outputId": "577b15de-0216-4338-a0e9-06b6df91f48e"
      },
      "outputs": [
        {
          "data": {
            "text/plain": [
              "['data', 'science']"
            ]
          },
          "execution_count": 17,
          "metadata": {},
          "output_type": "execute_result"
        }
      ],
      "source": [
        "lVal"
      ]
    },
    {
      "cell_type": "code",
      "execution_count": null,
      "metadata": {
        "id": "G-A0z_Km0_tf",
        "outputId": "2ddfdd1e-3218-46bc-f321-6e73f1fef12f"
      },
      "outputs": [
        {
          "data": {
            "text/plain": [
              "{'lecture': 'data science'}"
            ]
          },
          "execution_count": 18,
          "metadata": {},
          "output_type": "execute_result"
        }
      ],
      "source": [
        "dVal"
      ]
    },
    {
      "cell_type": "code",
      "execution_count": null,
      "metadata": {
        "id": "spZqRlp00_tf",
        "outputId": "ecc45a6b-4123-4f7f-960d-ec2f15baa7a5"
      },
      "outputs": [
        {
          "data": {
            "text/plain": [
              "True"
            ]
          },
          "execution_count": 19,
          "metadata": {},
          "output_type": "execute_result"
        }
      ],
      "source": [
        "bVal"
      ]
    },
    {
      "cell_type": "code",
      "execution_count": null,
      "metadata": {
        "id": "j3gALy9G0_tj",
        "outputId": "a3666ed3-69ab-4f1b-992f-db11ccac5567"
      },
      "outputs": [
        {
          "name": "stdout",
          "output_type": "stream",
          "text": [
            "strVal :  data science\n",
            "nVal :  12345\n",
            "fVal :  1.2\n",
            "lVal :  ['data', 'science']\n",
            "dVal :  {'lecture': 'data science'}\n",
            "bVal :  True\n"
          ]
        }
      ],
      "source": [
        "print('strVal : ', strVal)\n",
        "print('nVal : ', nVal)\n",
        "print('fVal : ', fVal)\n",
        "print('lVal : ', lVal)\n",
        "print('dVal : ', dVal)\n",
        "print('bVal : ', bVal)"
      ]
    },
    {
      "cell_type": "code",
      "execution_count": null,
      "metadata": {
        "id": "DgHyvdoO0_tk",
        "outputId": "e22c0b66-70c7-4134-9d96-cd08245bab01"
      },
      "outputs": [
        {
          "name": "stdout",
          "output_type": "stream",
          "text": [
            "strVal :  <class 'str'>\n",
            "nVal :  <class 'int'>\n",
            "fVal :  <class 'float'>\n",
            "lVal :  <class 'list'>\n",
            "dVal :  <class 'dict'>\n",
            "bVal :  <class 'bool'>\n"
          ]
        }
      ],
      "source": [
        "print('strVal : ', type(strVal))\n",
        "print('nVal : ', type(nVal))\n",
        "print('fVal : ', type(fVal))\n",
        "print('lVal : ', type(lVal))\n",
        "print('dVal : ', type(dVal))\n",
        "print('bVal : ', type(bVal))"
      ]
    },
    {
      "cell_type": "code",
      "execution_count": null,
      "metadata": {
        "id": "G5F0kxgF0_tm"
      },
      "outputs": [],
      "source": [
        "'''\n",
        "같은 변수명일 경우, 이전 데이터를 덮어씀\n",
        "'''\n",
        "nVal = 16\n",
        "fVal = 3.14"
      ]
    },
    {
      "cell_type": "code",
      "execution_count": null,
      "metadata": {
        "id": "yYCsppR20_tn",
        "outputId": "5307736b-d833-4931-f897-ea5aacbb465b"
      },
      "outputs": [
        {
          "name": "stdout",
          "output_type": "stream",
          "text": [
            "10진수 표현 :  16\n",
            "2진수 표현 :  0b10000\n",
            "8진수 표현 :  0o20\n",
            "16진수 표현 :  0x10\n"
          ]
        }
      ],
      "source": [
        "print('10진수 표현 : ', nVal)\n",
        "print('2진수 표현 : ', bin(nVal))\n",
        "print('8진수 표현 : ', oct(nVal))\n",
        "print('16진수 표현 : ', hex(nVal)) "
      ]
    },
    {
      "cell_type": "code",
      "execution_count": null,
      "metadata": {
        "id": "v2zB5D5U0_to"
      },
      "outputs": [],
      "source": [
        "btVal = True\n",
        "bfVal = False"
      ]
    },
    {
      "cell_type": "code",
      "execution_count": null,
      "metadata": {
        "id": "-IZmOVt30_to",
        "outputId": "29016afd-e0c4-4bbb-ac59-5a97baa30a98"
      },
      "outputs": [
        {
          "ename": "NameError",
          "evalue": "name 'TRUE' is not defined",
          "output_type": "error",
          "traceback": [
            "\u001b[1;31m---------------------------------------------------------------------------\u001b[0m",
            "\u001b[1;31mNameError\u001b[0m                                 Traceback (most recent call last)",
            "Cell \u001b[1;32mIn [25], line 1\u001b[0m\n\u001b[1;32m----> 1\u001b[0m btVal \u001b[39m=\u001b[39m TRUE\n\u001b[0;32m      2\u001b[0m bfVal \u001b[39m=\u001b[39m FALSE\n",
            "\u001b[1;31mNameError\u001b[0m: name 'TRUE' is not defined"
          ]
        }
      ],
      "source": [
        "btVal = TRUE\n",
        "bfVal = FALSE"
      ]
    },
    {
      "cell_type": "code",
      "execution_count": null,
      "metadata": {
        "id": "t1Zz3gNg0_tp",
        "outputId": "78d7f047-703b-4bcb-e403-5c68f48826cd"
      },
      "outputs": [
        {
          "ename": "NameError",
          "evalue": "name 'true' is not defined",
          "output_type": "error",
          "traceback": [
            "\u001b[1;31m---------------------------------------------------------------------------\u001b[0m",
            "\u001b[1;31mNameError\u001b[0m                                 Traceback (most recent call last)",
            "Cell \u001b[1;32mIn [26], line 1\u001b[0m\n\u001b[1;32m----> 1\u001b[0m btVal \u001b[39m=\u001b[39m true\n\u001b[0;32m      2\u001b[0m bfVal \u001b[39m=\u001b[39m false\n",
            "\u001b[1;31mNameError\u001b[0m: name 'true' is not defined"
          ]
        }
      ],
      "source": [
        "btVal = true\n",
        "bfVal = false"
      ]
    },
    {
      "cell_type": "code",
      "execution_count": null,
      "metadata": {
        "id": "W9Rt849V0_tp",
        "outputId": "cd8a5a38-a624-498c-c069-85594db8cf17"
      },
      "outputs": [
        {
          "data": {
            "text/plain": [
              "False"
            ]
          },
          "execution_count": 27,
          "metadata": {},
          "output_type": "execute_result"
        }
      ],
      "source": [
        "10 == 11"
      ]
    },
    {
      "cell_type": "code",
      "execution_count": null,
      "metadata": {
        "id": "0JhoVIUY0_tq",
        "outputId": "f56fe12a-31cf-452d-f379-efa037fc4055"
      },
      "outputs": [
        {
          "data": {
            "text/plain": [
              "True"
            ]
          },
          "execution_count": 28,
          "metadata": {},
          "output_type": "execute_result"
        }
      ],
      "source": [
        "10 != 11"
      ]
    },
    {
      "cell_type": "code",
      "execution_count": null,
      "metadata": {
        "id": "0C7XWhMh0_tq",
        "outputId": "38e53b79-44e3-4b3b-9835-e05c7fd09951"
      },
      "outputs": [
        {
          "data": {
            "text/plain": [
              "False"
            ]
          },
          "execution_count": 29,
          "metadata": {},
          "output_type": "execute_result"
        }
      ],
      "source": [
        "10 >= 11"
      ]
    },
    {
      "cell_type": "code",
      "execution_count": null,
      "metadata": {
        "id": "uOHjULqU0_tr",
        "outputId": "2cc381a5-6c1e-4643-98c1-8b1f0cd9e561"
      },
      "outputs": [
        {
          "data": {
            "text/plain": [
              "True"
            ]
          },
          "execution_count": 30,
          "metadata": {},
          "output_type": "execute_result"
        }
      ],
      "source": [
        "10 <= 11"
      ]
    },
    {
      "cell_type": "code",
      "execution_count": null,
      "metadata": {
        "id": "xIAKBj1Z0_tr",
        "outputId": "3c442ee9-62be-482b-f7e8-84ea852827bc"
      },
      "outputs": [
        {
          "data": {
            "text/plain": [
              "False"
            ]
          },
          "execution_count": 31,
          "metadata": {},
          "output_type": "execute_result"
        }
      ],
      "source": [
        "10 > 11"
      ]
    },
    {
      "cell_type": "code",
      "execution_count": null,
      "metadata": {
        "id": "tpiIAEmo0_ts",
        "outputId": "ed7df02f-e20b-48e0-c43a-8b448e8b0b68"
      },
      "outputs": [
        {
          "data": {
            "text/plain": [
              "True"
            ]
          },
          "execution_count": 32,
          "metadata": {},
          "output_type": "execute_result"
        }
      ],
      "source": [
        "10 < 11"
      ]
    },
    {
      "cell_type": "code",
      "execution_count": null,
      "metadata": {
        "id": "lahJrX5b0_ts"
      },
      "outputs": [],
      "source": [
        "nBig = 100\n",
        "nSmall = 10"
      ]
    },
    {
      "cell_type": "code",
      "execution_count": null,
      "metadata": {
        "id": "tUNcdTe00_ts",
        "outputId": "d3f474db-564d-44f9-f9ac-eb2619b39fcc"
      },
      "outputs": [
        {
          "name": "stdout",
          "output_type": "stream",
          "text": [
            "False\n",
            "True\n",
            "True\n",
            "False\n",
            "True\n",
            "False\n"
          ]
        }
      ],
      "source": [
        "print(nBig == nSmall)\n",
        "print(nBig != nSmall)\n",
        "print(nBig >= nSmall)\n",
        "print(nBig <= nSmall)\n",
        "print(nBig > nSmall)\n",
        "print(nBig < nSmall)"
      ]
    },
    {
      "cell_type": "code",
      "execution_count": null,
      "metadata": {
        "id": "jnI6Pkmj0_tt",
        "outputId": "9f4827b6-27a8-48f0-ef6c-2f4bf86f7564"
      },
      "outputs": [
        {
          "ename": "SyntaxError",
          "evalue": "invalid syntax (2189819302.py, line 1)",
          "output_type": "error",
          "traceback": [
            "\u001b[1;36m  Cell \u001b[1;32mIn [35], line 1\u001b[1;36m\u001b[0m\n\u001b[1;33m    print(nBig =< nSmall)\u001b[0m\n\u001b[1;37m                ^\u001b[0m\n\u001b[1;31mSyntaxError\u001b[0m\u001b[1;31m:\u001b[0m invalid syntax\n"
          ]
        }
      ],
      "source": [
        "print(nBig =< nSmall)"
      ]
    },
    {
      "cell_type": "code",
      "execution_count": null,
      "metadata": {
        "id": "X6PMBHlO0_tt",
        "outputId": "b32ea320-0b26-4522-a52c-6ba868aef106"
      },
      "outputs": [
        {
          "ename": "SyntaxError",
          "evalue": "invalid syntax (4185127180.py, line 1)",
          "output_type": "error",
          "traceback": [
            "\u001b[1;36m  Cell \u001b[1;32mIn [36], line 1\u001b[1;36m\u001b[0m\n\u001b[1;33m    print(nBig => nSmall)\u001b[0m\n\u001b[1;37m                ^\u001b[0m\n\u001b[1;31mSyntaxError\u001b[0m\u001b[1;31m:\u001b[0m invalid syntax\n"
          ]
        }
      ],
      "source": [
        "print(nBig => nSmall)"
      ]
    },
    {
      "cell_type": "code",
      "execution_count": null,
      "metadata": {
        "id": "CBM_KwY80_tt"
      },
      "outputs": [],
      "source": [
        "strData = 'data'\n",
        "strSci = \"Science\""
      ]
    },
    {
      "cell_type": "code",
      "execution_count": null,
      "metadata": {
        "id": "sCs95xNx0_tu"
      },
      "outputs": [],
      "source": [
        "strLecture = strData + strSci"
      ]
    },
    {
      "cell_type": "code",
      "execution_count": null,
      "metadata": {
        "id": "qhd09fZZ0_tu",
        "outputId": "cb91832b-5f8e-492e-e62b-5677bfe1d9fa"
      },
      "outputs": [
        {
          "data": {
            "text/plain": [
              "'dataScience'"
            ]
          },
          "execution_count": 39,
          "metadata": {},
          "output_type": "execute_result"
        }
      ],
      "source": [
        "strLecture"
      ]
    },
    {
      "cell_type": "code",
      "execution_count": null,
      "metadata": {
        "id": "Pow4OT_50_tu",
        "outputId": "05261276-94ab-43ed-f54c-c7f88c3b93d4"
      },
      "outputs": [
        {
          "data": {
            "text/plain": [
              "'data Science'"
            ]
          },
          "execution_count": 40,
          "metadata": {},
          "output_type": "execute_result"
        }
      ],
      "source": [
        "strLecture = strData +\" \"+ strSci\n",
        "strLecture"
      ]
    },
    {
      "cell_type": "code",
      "execution_count": null,
      "metadata": {
        "id": "MgYiL9C30_tv",
        "outputId": "87911fa2-794a-4a32-c988-177be010db49"
      },
      "outputs": [
        {
          "data": {
            "text/plain": [
              "['data', 'Science']"
            ]
          },
          "execution_count": 41,
          "metadata": {},
          "output_type": "execute_result"
        }
      ],
      "source": [
        "strLecture.split()"
      ]
    },
    {
      "cell_type": "code",
      "execution_count": null,
      "metadata": {
        "id": "TaeHPiDr0_tv"
      },
      "outputs": [],
      "source": [
        "lSeperate = strLecture.split()"
      ]
    },
    {
      "cell_type": "code",
      "execution_count": null,
      "metadata": {
        "id": "fDO6qiBn0_tv",
        "outputId": "53db3a6d-914c-481d-9386-19b255941dea"
      },
      "outputs": [
        {
          "data": {
            "text/plain": [
              "list"
            ]
          },
          "execution_count": 43,
          "metadata": {},
          "output_type": "execute_result"
        }
      ],
      "source": [
        "type(lSeperate)"
      ]
    },
    {
      "cell_type": "code",
      "execution_count": null,
      "metadata": {
        "id": "vY8L_KAH0_tv"
      },
      "outputs": [],
      "source": [
        "strHello = \"안녕하세요. 반갑습니다.\""
      ]
    },
    {
      "cell_type": "code",
      "execution_count": null,
      "metadata": {
        "id": "WGrtUbqS0_tw",
        "outputId": "1ce583d1-4f90-4216-9bc9-53c91ebf8c1a"
      },
      "outputs": [
        {
          "data": {
            "text/plain": [
              "7"
            ]
          },
          "execution_count": 45,
          "metadata": {},
          "output_type": "execute_result"
        }
      ],
      "source": [
        "strHello.find(\"반갑\")"
      ]
    },
    {
      "cell_type": "code",
      "execution_count": null,
      "metadata": {
        "id": "U7zyO4qx0_tw",
        "outputId": "a05eb078-f67f-4a97-f7ec-809b1a33e084"
      },
      "outputs": [
        {
          "data": {
            "text/plain": [
              "-1"
            ]
          },
          "execution_count": 46,
          "metadata": {},
          "output_type": "execute_result"
        }
      ],
      "source": [
        "strHello.find(\"hello\")"
      ]
    },
    {
      "cell_type": "code",
      "execution_count": null,
      "metadata": {
        "id": "Jdxk4oo80_tw",
        "outputId": "78b16863-b24d-4c15-c88f-8855d06388c3"
      },
      "outputs": [
        {
          "data": {
            "text/plain": [
              "True"
            ]
          },
          "execution_count": 47,
          "metadata": {},
          "output_type": "execute_result"
        }
      ],
      "source": [
        "\"반갑\" in strHello"
      ]
    },
    {
      "cell_type": "code",
      "execution_count": null,
      "metadata": {
        "id": "x0Uy0cCx0_tw",
        "outputId": "abb0293b-44c6-4dd2-85d8-ce0d9c31d26d"
      },
      "outputs": [
        {
          "data": {
            "text/plain": [
              "'안녕하세요? 반갑습니다?'"
            ]
          },
          "execution_count": 48,
          "metadata": {},
          "output_type": "execute_result"
        }
      ],
      "source": [
        "strHello.replace('.', '?')"
      ]
    },
    {
      "cell_type": "code",
      "execution_count": null,
      "metadata": {
        "id": "Rp8LzK_30_tx",
        "outputId": "140736fc-81f9-474a-eb46-bcbb663401be"
      },
      "outputs": [
        {
          "data": {
            "text/plain": [
              "'안녕하셔유. 반갑습니다.'"
            ]
          },
          "execution_count": 49,
          "metadata": {},
          "output_type": "execute_result"
        }
      ],
      "source": [
        "strHello.replace('.', '?')\n",
        "strHello.replace(\"하세요\", \"하셔유\")"
      ]
    },
    {
      "cell_type": "code",
      "execution_count": null,
      "metadata": {
        "id": "AebxM-7A0_tx",
        "outputId": "6c7b0685-f6f3-465b-f86e-39566633da07"
      },
      "outputs": [
        {
          "data": {
            "text/plain": [
              "'안녕하세요. 반갑습니다.'"
            ]
          },
          "execution_count": 50,
          "metadata": {},
          "output_type": "execute_result"
        }
      ],
      "source": [
        "strHello"
      ]
    },
    {
      "cell_type": "code",
      "execution_count": null,
      "metadata": {
        "id": "hmbPThV30_tx",
        "outputId": "5f8f1434-2788-4267-f1f9-53784d54f91c"
      },
      "outputs": [
        {
          "data": {
            "text/plain": [
              "'안녕하셔유? 반갑습니다?'"
            ]
          },
          "execution_count": 51,
          "metadata": {},
          "output_type": "execute_result"
        }
      ],
      "source": [
        "strNewHello = strHello.replace('.', '?')\n",
        "strNewHello = strNewHello.replace(\"하세요\", \"하셔유\")\n",
        "strNewHello"
      ]
    },
    {
      "cell_type": "code",
      "execution_count": null,
      "metadata": {
        "id": "ee78HOfL0_ty",
        "outputId": "9219e131-50c2-4bd3-c638-b8c08115f2c5"
      },
      "outputs": [
        {
          "data": {
            "text/plain": [
              "'안녕하세요. '"
            ]
          },
          "execution_count": 52,
          "metadata": {},
          "output_type": "execute_result"
        }
      ],
      "source": [
        "strHello.strip('반갑습니다.')"
      ]
    },
    {
      "cell_type": "code",
      "execution_count": null,
      "metadata": {
        "id": "e0YkXMVi0_ty",
        "outputId": "a8abca0f-898b-4172-962b-40ad1013e83e"
      },
      "outputs": [
        {
          "data": {
            "text/plain": [
              "'안녕하세요. 반갑습니다.'"
            ]
          },
          "execution_count": 53,
          "metadata": {},
          "output_type": "execute_result"
        }
      ],
      "source": [
        "strHello"
      ]
    },
    {
      "cell_type": "code",
      "execution_count": null,
      "metadata": {
        "id": "Wyzf8Kmw0_ty",
        "outputId": "f738ebef-42c0-46ab-b9ca-a393289a2f72"
      },
      "outputs": [
        {
          "name": "stdout",
          "output_type": "stream",
          "text": [
            "[1, 2, 3, 4, 5]\n",
            "type :  <class 'list'>\n"
          ]
        }
      ],
      "source": [
        "lnData = [1,2,3,4,5]\n",
        "print(lnData)\n",
        "print('type : ', type(lnData))"
      ]
    },
    {
      "cell_type": "code",
      "execution_count": null,
      "metadata": {
        "id": "Pdr1yLvj0_ty",
        "outputId": "2b5ce23b-710b-4b27-d5d0-c5ade5cf7253"
      },
      "outputs": [
        {
          "name": "stdout",
          "output_type": "stream",
          "text": [
            "1\n",
            "4\n"
          ]
        }
      ],
      "source": [
        "print(lnData[0])\n",
        "print(lnData[3])"
      ]
    },
    {
      "cell_type": "code",
      "execution_count": null,
      "metadata": {
        "id": "jtiAkpbg0_tz",
        "outputId": "6ece20b8-e2d8-4253-96b1-0688aff880da"
      },
      "outputs": [
        {
          "name": "stdout",
          "output_type": "stream",
          "text": [
            "[5, 2, 3, 4, 5]\n"
          ]
        }
      ],
      "source": [
        "lnData[0] = lnData[4]\n",
        "print(lnData)"
      ]
    },
    {
      "cell_type": "code",
      "execution_count": null,
      "metadata": {
        "id": "MaWMgwzd0_tz",
        "outputId": "996f0bdd-ce3b-4693-8304-04fbc89b0b6e"
      },
      "outputs": [
        {
          "name": "stdout",
          "output_type": "stream",
          "text": [
            "[3, 4]\n"
          ]
        }
      ],
      "source": [
        "print(lnData[2:4])"
      ]
    },
    {
      "cell_type": "code",
      "execution_count": null,
      "metadata": {
        "id": "3HDXkFRr0_tz",
        "outputId": "f3db37fb-e6d4-4276-ec4e-be30b6c40a84"
      },
      "outputs": [
        {
          "data": {
            "text/plain": [
              "[1, 2, 3, 4, 5, 'a', 'b', 'c']"
            ]
          },
          "execution_count": 65,
          "metadata": {},
          "output_type": "execute_result"
        }
      ],
      "source": [
        "lnData = [1,2,3,4,5]\n",
        "lstrData=['a', 'b', 'c']\n",
        "\n",
        "lnData + lstrData"
      ]
    },
    {
      "cell_type": "code",
      "execution_count": null,
      "metadata": {
        "id": "1hb85fov0_t0",
        "outputId": "9ac6f21f-14c2-479d-95d2-00a00a238bb0"
      },
      "outputs": [
        {
          "data": {
            "text/plain": [
              "[1, 2, 3, 4, 5, 10]"
            ]
          },
          "execution_count": 66,
          "metadata": {},
          "output_type": "execute_result"
        }
      ],
      "source": [
        "lnData.append(10)\n",
        "lnData"
      ]
    },
    {
      "cell_type": "code",
      "execution_count": null,
      "metadata": {
        "id": "fXN7vNzh0_t0",
        "outputId": "ddadb6d9-40fc-41d2-cf74-a1e77417400b"
      },
      "outputs": [
        {
          "data": {
            "text/plain": [
              "['python', 1, 2, 3, 4, 5, 10]"
            ]
          },
          "execution_count": 67,
          "metadata": {},
          "output_type": "execute_result"
        }
      ],
      "source": [
        "lnData.insert(0, 'python')\n",
        "lnData"
      ]
    },
    {
      "cell_type": "code",
      "execution_count": null,
      "metadata": {
        "id": "NquNlAHV0_t1",
        "outputId": "d6a4cf1d-a852-49be-c639-747d5a9d399f"
      },
      "outputs": [
        {
          "data": {
            "text/plain": [
              "['python', 1, 2, 3, 4, 10]"
            ]
          },
          "execution_count": 68,
          "metadata": {},
          "output_type": "execute_result"
        }
      ],
      "source": [
        "del lnData[5]\n",
        "lnData"
      ]
    },
    {
      "cell_type": "code",
      "execution_count": null,
      "metadata": {
        "id": "HPSeU7P60_t1",
        "outputId": "1488faad-6726-4b96-fe2d-6294c878c1c4"
      },
      "outputs": [
        {
          "data": {
            "text/plain": [
              "['python', 1, 2, 3, 4, 10]"
            ]
          },
          "execution_count": 69,
          "metadata": {},
          "output_type": "execute_result"
        }
      ],
      "source": [
        "lnData"
      ]
    },
    {
      "cell_type": "code",
      "execution_count": null,
      "metadata": {
        "id": "WrllZJJH0_t1",
        "outputId": "07739386-6ac1-4c54-e66c-2b09aae54d1d"
      },
      "outputs": [
        {
          "data": {
            "text/plain": [
              "[1, 2, 3, 4, 10]"
            ]
          },
          "execution_count": 70,
          "metadata": {},
          "output_type": "execute_result"
        }
      ],
      "source": [
        "lnData.pop(0)\n",
        "lnData"
      ]
    },
    {
      "cell_type": "code",
      "execution_count": null,
      "metadata": {
        "id": "4G3tUEcq0_t2",
        "outputId": "42334c1c-cb25-41e4-b9e9-71ba8b6af3cb"
      },
      "outputs": [
        {
          "data": {
            "text/plain": [
              "[1, 2, 3, 4]"
            ]
          },
          "execution_count": 71,
          "metadata": {},
          "output_type": "execute_result"
        }
      ],
      "source": [
        "lnData.pop()\n",
        "lnData"
      ]
    },
    {
      "cell_type": "code",
      "execution_count": null,
      "metadata": {
        "id": "W4BD_dAY0_t2",
        "outputId": "f1de4bb7-0cb2-42af-89ed-d82ed7fe5cd4"
      },
      "outputs": [
        {
          "data": {
            "text/plain": [
              "[]"
            ]
          },
          "execution_count": 72,
          "metadata": {},
          "output_type": "execute_result"
        }
      ],
      "source": [
        "lnData.clear()\n",
        "lnData"
      ]
    },
    {
      "cell_type": "code",
      "execution_count": null,
      "metadata": {
        "id": "yK4O50Xz0_t2",
        "outputId": "b4dc5c5f-9543-4134-e9cb-76908ab273cf"
      },
      "outputs": [
        {
          "name": "stdout",
          "output_type": "stream",
          "text": [
            "('사과', '딸기', '바나나', '토마토', '키위')\n",
            "<class 'tuple'>\n"
          ]
        }
      ],
      "source": [
        "# 튜플의 기본 구조\n",
        "tVal = (\"사과\", \"딸기\", \"바나나\", \"토마토\", \"키위\")\n",
        "\n",
        "print(tVal)\n",
        "print(type(tVal))"
      ]
    },
    {
      "cell_type": "code",
      "execution_count": null,
      "metadata": {
        "id": "3Tjb8Tq00_t3",
        "outputId": "14b5c685-e85b-4590-9464-afa1205bf6c0"
      },
      "outputs": [
        {
          "ename": "TypeError",
          "evalue": "'tuple' object does not support item assignment",
          "output_type": "error",
          "traceback": [
            "\u001b[1;31m---------------------------------------------------------------------------\u001b[0m",
            "\u001b[1;31mTypeError\u001b[0m                                 Traceback (most recent call last)",
            "Cell \u001b[1;32mIn [2], line 1\u001b[0m\n\u001b[1;32m----> 1\u001b[0m tVal[\u001b[39m0\u001b[39;49m] \u001b[39m=\u001b[39m \u001b[39m\"\u001b[39m\u001b[39m포도\u001b[39m\u001b[39m\"\u001b[39m\n",
            "\u001b[1;31mTypeError\u001b[0m: 'tuple' object does not support item assignment"
          ]
        }
      ],
      "source": [
        "tVal[0] = \"포도\""
      ]
    },
    {
      "cell_type": "code",
      "execution_count": null,
      "metadata": {
        "id": "LN1BD4_w0_t3",
        "outputId": "dc296858-ac47-4729-f47b-ba8e0de57884"
      },
      "outputs": [
        {
          "data": {
            "text/plain": [
              "3"
            ]
          },
          "execution_count": 75,
          "metadata": {},
          "output_type": "execute_result"
        }
      ],
      "source": [
        "tData = ( 1, 2, 3, 1, 2, 3, 4, 5, 1, 2, 7)\n",
        "tData.count(1)"
      ]
    },
    {
      "cell_type": "code",
      "execution_count": null,
      "metadata": {
        "id": "j3YjT7wt0_t3",
        "outputId": "8f2e1b80-2d21-48ad-ddd9-4b365c62c988"
      },
      "outputs": [
        {
          "data": {
            "text/plain": [
              "5"
            ]
          },
          "execution_count": 76,
          "metadata": {},
          "output_type": "execute_result"
        }
      ],
      "source": [
        "len(tVal)"
      ]
    },
    {
      "cell_type": "code",
      "execution_count": null,
      "metadata": {
        "id": "QQ51RLfs0_t4",
        "outputId": "5932984d-b70b-4919-f8c9-b6fe546e33e2"
      },
      "outputs": [
        {
          "data": {
            "text/plain": [
              "11"
            ]
          },
          "execution_count": 77,
          "metadata": {},
          "output_type": "execute_result"
        }
      ],
      "source": [
        "len(tData)"
      ]
    },
    {
      "cell_type": "code",
      "execution_count": null,
      "metadata": {
        "id": "B6F9_BH00_t4",
        "outputId": "54215ea5-99da-4dc2-f4f2-b3ddef015d05"
      },
      "outputs": [
        {
          "name": "stdout",
          "output_type": "stream",
          "text": [
            "(3, 1, 2)\n"
          ]
        }
      ],
      "source": [
        "print(tData[2:5])"
      ]
    },
    {
      "cell_type": "code",
      "execution_count": null,
      "metadata": {
        "id": "CCJ9V9PB0_t4",
        "outputId": "55482984-9400-4e72-f5b7-df20c75702e3"
      },
      "outputs": [
        {
          "name": "stdout",
          "output_type": "stream",
          "text": [
            "('사과', '딸기', '바나나', '토마토', '키위', 1, 2, 3, 1, 2, 3, 4, 5, 1, 2, 7)\n"
          ]
        }
      ],
      "source": [
        "tTuple = tVal+ tData\n",
        "print(tTuple)"
      ]
    },
    {
      "cell_type": "code",
      "execution_count": null,
      "metadata": {
        "id": "VEqL7Bin0_t4",
        "outputId": "5caa02b6-bee1-4d3f-b112-5928f88f9b9b"
      },
      "outputs": [
        {
          "data": {
            "text/plain": [
              "(1, 2, 3, 1, 2, 3, 4, 5, 1, 2, 7, 1, 2, 3, 1, 2, 3, 4, 5, 1, 2, 7)"
            ]
          },
          "execution_count": 80,
          "metadata": {},
          "output_type": "execute_result"
        }
      ],
      "source": [
        "tData * 2"
      ]
    },
    {
      "cell_type": "code",
      "execution_count": null,
      "metadata": {
        "id": "Hi3YX3Vy0_t5",
        "outputId": "bc26389e-123c-49a1-a452-7d8bbb790c30"
      },
      "outputs": [
        {
          "data": {
            "text/plain": [
              "(1, 2, 3, 1, 2, 3, 4, 5, 1, 2, 7)"
            ]
          },
          "execution_count": 81,
          "metadata": {},
          "output_type": "execute_result"
        }
      ],
      "source": [
        "tData"
      ]
    },
    {
      "cell_type": "code",
      "execution_count": null,
      "metadata": {
        "id": "9oG3-ZzL0_t5",
        "outputId": "225834e6-87c7-43c0-8bef-0fb4195a1ecc"
      },
      "outputs": [
        {
          "name": "stdout",
          "output_type": "stream",
          "text": [
            "(1, 2, 3, 1, 2, 3, 4, 5, 1, 2, 7, 1, 2, 3, 1, 2, 3, 4, 5, 1, 2, 7)\n"
          ]
        }
      ],
      "source": [
        "tData2 = tData * 2\n",
        "print(tData2)"
      ]
    },
    {
      "cell_type": "code",
      "execution_count": null,
      "metadata": {
        "id": "w2NxfPLX0_t6",
        "outputId": "953f9d80-9878-4fee-a687-574e9a170489"
      },
      "outputs": [
        {
          "name": "stdout",
          "output_type": "stream",
          "text": [
            "tVal memory =  0x1b5ccf5ae00\n",
            "tVal memory =  0x1b5ccf7ae40\n",
            "('사과', '딸기', '바나나', '토마토', '키위', '사과', '딸기', '바나나', '토마토', '키위')\n"
          ]
        }
      ],
      "source": [
        "print(\"tVal memory = \", hex(id(tVal)))\n",
        "tVal = tVal * 2\n",
        "print(\"tVal memory = \", hex(id(tVal)))\n",
        "print(tVal)"
      ]
    },
    {
      "cell_type": "code",
      "execution_count": null,
      "metadata": {
        "id": "5swjVo3j0_t6",
        "outputId": "7fa7d872-d4f1-453a-9cfb-15935fd16e9b"
      },
      "outputs": [
        {
          "name": "stdout",
          "output_type": "stream",
          "text": [
            "tVal memory =  0x1b5ccf7ae40\n",
            "tVal memory =  0x1b5cce98a00\n",
            "('사과', '딸기', '바나나', '토마토', '키위', '사과', '딸기', '바나나', '토마토', '키위', '사과', '딸기', '바나나', '토마토', '키위', '사과', '딸기', '바나나', '토마토', '키위')\n"
          ]
        }
      ],
      "source": [
        "print(\"tVal memory = \", hex(id(tVal)))\n",
        "tVal = tVal + tVal\n",
        "print(\"tVal memory = \", hex(id(tVal)))\n",
        "print(tVal)"
      ]
    },
    {
      "cell_type": "code",
      "execution_count": null,
      "metadata": {
        "id": "HwRLi8C50_t6",
        "outputId": "e540eb40-5335-438d-a474-183c8698b28e"
      },
      "outputs": [
        {
          "name": "stdout",
          "output_type": "stream",
          "text": [
            "{1, 2, 3, 4, 5}\n",
            "<class 'set'>\n"
          ]
        }
      ],
      "source": [
        "sVal = {1, 2, 3, 4, 5}\n",
        "print(sVal)\n",
        "print(type(sVal))"
      ]
    },
    {
      "cell_type": "code",
      "execution_count": null,
      "metadata": {
        "id": "uouest6e0_t7",
        "outputId": "4c01cf52-952b-4ea6-a44f-11e81fcf2301"
      },
      "outputs": [
        {
          "ename": "TypeError",
          "evalue": "'set' object is not subscriptable",
          "output_type": "error",
          "traceback": [
            "\u001b[1;31m---------------------------------------------------------------------------\u001b[0m",
            "\u001b[1;31mTypeError\u001b[0m                                 Traceback (most recent call last)",
            "Cell \u001b[1;32mIn [86], line 1\u001b[0m\n\u001b[1;32m----> 1\u001b[0m sVal[\u001b[39m1\u001b[39;49m:\u001b[39m2\u001b[39;49m]\n",
            "\u001b[1;31mTypeError\u001b[0m: 'set' object is not subscriptable"
          ]
        }
      ],
      "source": [
        "sVal[1:2]"
      ]
    },
    {
      "cell_type": "code",
      "execution_count": null,
      "metadata": {
        "id": "g-WspbdL0_t7",
        "outputId": "d7c12996-48a9-451f-c99e-04ee114752f9"
      },
      "outputs": [
        {
          "name": "stdout",
          "output_type": "stream",
          "text": [
            "{1, 2, 3, 4, 5, 100}\n"
          ]
        }
      ],
      "source": [
        "sVal.add(100)\n",
        "print(sVal)"
      ]
    },
    {
      "cell_type": "code",
      "execution_count": null,
      "metadata": {
        "id": "SIp2OeO30_t8",
        "outputId": "c7d842f8-3e63-4344-ea0a-a16f45d4691f"
      },
      "outputs": [
        {
          "name": "stdout",
          "output_type": "stream",
          "text": [
            "{1, 2, 3, 4, 5, 100, 200, 300}\n"
          ]
        }
      ],
      "source": [
        "sVal.update([200, 300])\n",
        "print(sVal)"
      ]
    },
    {
      "cell_type": "code",
      "execution_count": null,
      "metadata": {
        "id": "sdYox79E0_t9",
        "outputId": "9dd15c91-c71f-4c96-d505-a505f7f4afd2"
      },
      "outputs": [
        {
          "name": "stdout",
          "output_type": "stream",
          "text": [
            "{1, 2, 3, 4, 5, 100, 300}\n"
          ]
        }
      ],
      "source": [
        "sVal.remove(200)\n",
        "print(sVal)"
      ]
    },
    {
      "cell_type": "code",
      "execution_count": null,
      "metadata": {
        "id": "vjmUW2iX0_t9",
        "outputId": "48b6ecc3-92ca-45e3-ba70-a02d3a1dfbd3"
      },
      "outputs": [
        {
          "name": "stdout",
          "output_type": "stream",
          "text": [
            "set()\n"
          ]
        }
      ],
      "source": [
        "sVal.clear()\n",
        "print(sVal)"
      ]
    },
    {
      "cell_type": "code",
      "execution_count": null,
      "metadata": {
        "id": "RYc3FrMz0_t-",
        "outputId": "3b90920c-d8fc-405a-e7e5-25b4802fe14e"
      },
      "outputs": [
        {
          "name": "stdout",
          "output_type": "stream",
          "text": [
            "{400, 100, 500, 200, 300}\n",
            "{100, 'c', 'b', 'a', 300}\n"
          ]
        }
      ],
      "source": [
        "sVal = {100, 200, 300, 400, 500}\n",
        "sData = {\"a\", \"b\", \"c\", \"c\", 100, 300}\n",
        "print(sVal)\n",
        "print(sData)"
      ]
    },
    {
      "cell_type": "code",
      "execution_count": null,
      "metadata": {
        "id": "npRrM5k-0_t-",
        "outputId": "168965bc-9ec5-4fd0-dabc-2376ffdd32fa"
      },
      "outputs": [
        {
          "data": {
            "text/plain": [
              "{100, 300}"
            ]
          },
          "execution_count": 92,
          "metadata": {},
          "output_type": "execute_result"
        }
      ],
      "source": [
        "sVal.intersection(sData)"
      ]
    },
    {
      "cell_type": "code",
      "execution_count": null,
      "metadata": {
        "id": "_HG5t3JU0_t_",
        "outputId": "e928a57c-910e-4fda-f1b0-0fcf5d6a74d7"
      },
      "outputs": [
        {
          "data": {
            "text/plain": [
              "{200, 400, 500}"
            ]
          },
          "execution_count": 93,
          "metadata": {},
          "output_type": "execute_result"
        }
      ],
      "source": [
        "sVal.difference(sData)"
      ]
    },
    {
      "cell_type": "code",
      "execution_count": null,
      "metadata": {
        "id": "aYCpC3X70_uA",
        "outputId": "5a6eda6f-1777-4b6b-ab68-759afec2ee53"
      },
      "outputs": [
        {
          "data": {
            "text/plain": [
              "{200, 400, 500}"
            ]
          },
          "execution_count": 94,
          "metadata": {},
          "output_type": "execute_result"
        }
      ],
      "source": [
        "sVal - sData"
      ]
    },
    {
      "cell_type": "code",
      "execution_count": null,
      "metadata": {
        "id": "w54BIrla0_uA",
        "outputId": "e0e2c996-5056-44c1-f6f7-c93cebfda6d3"
      },
      "outputs": [
        {
          "data": {
            "text/plain": [
              "{100, 200, 300, 400, 500, 'a', 'b', 'c'}"
            ]
          },
          "execution_count": 95,
          "metadata": {},
          "output_type": "execute_result"
        }
      ],
      "source": [
        "sVal.union(sData)"
      ]
    },
    {
      "cell_type": "code",
      "execution_count": null,
      "metadata": {
        "id": "FEEEP4a-0_uB",
        "outputId": "9ce671e2-175a-40c0-dd69-2f018f7fda80"
      },
      "outputs": [
        {
          "ename": "TypeError",
          "evalue": "unsupported operand type(s) for +: 'set' and 'set'",
          "output_type": "error",
          "traceback": [
            "\u001b[1;31m---------------------------------------------------------------------------\u001b[0m",
            "\u001b[1;31mTypeError\u001b[0m                                 Traceback (most recent call last)",
            "Cell \u001b[1;32mIn [96], line 1\u001b[0m\n\u001b[1;32m----> 1\u001b[0m sVal \u001b[39m+\u001b[39;49m sData\n",
            "\u001b[1;31mTypeError\u001b[0m: unsupported operand type(s) for +: 'set' and 'set'"
          ]
        }
      ],
      "source": [
        "sVal + sData"
      ]
    },
    {
      "cell_type": "code",
      "execution_count": null,
      "metadata": {
        "id": "RJeaWCCE0_uB",
        "outputId": "90a97ea8-3e97-445f-94cf-d0519b8fd0bc"
      },
      "outputs": [
        {
          "data": {
            "text/plain": [
              "{200, 400, 500, 'a', 'b', 'c'}"
            ]
          },
          "execution_count": 97,
          "metadata": {},
          "output_type": "execute_result"
        }
      ],
      "source": [
        "sVal.symmetric_difference(sData)"
      ]
    },
    {
      "cell_type": "code",
      "execution_count": null,
      "metadata": {
        "id": "Vdqy7eI60_uB",
        "outputId": "bec164ff-6c02-4288-83a5-4cb482489f5d"
      },
      "outputs": [
        {
          "name": "stdout",
          "output_type": "stream",
          "text": [
            "{'name': '이컴공', 'email': 'computer@hoseo.edu', 'address': '충남 아산시'}\n",
            "<class 'dict'>\n"
          ]
        }
      ],
      "source": [
        "dVal = {\n",
        "    'name' : '이컴공',\n",
        "    'email' : 'computer@hoseo.edu',\n",
        "    'address' : '충남 아산시'\n",
        "}\n",
        "print(dVal)\n",
        "print(type(dVal))"
      ]
    },
    {
      "cell_type": "code",
      "execution_count": null,
      "metadata": {
        "id": "jMthQI7Y0_uC"
      },
      "outputs": [],
      "source": [
        "dData = {\n",
        "    \"사과\" : 300, \n",
        "    \"포도\" : 200, \n",
        "    \"배\" : 500,\n",
        "    \"키위\" : 100\n",
        "}"
      ]
    },
    {
      "cell_type": "code",
      "execution_count": null,
      "metadata": {
        "id": "P0x0hDs-0_uD",
        "outputId": "04e04e4d-4bb4-490f-d40d-a8df7d539a71"
      },
      "outputs": [
        {
          "name": "stdout",
          "output_type": "stream",
          "text": [
            "500\n"
          ]
        }
      ],
      "source": [
        "print(dData[\"배\"])"
      ]
    },
    {
      "cell_type": "code",
      "execution_count": null,
      "metadata": {
        "id": "_tYBZc8e0_uD",
        "outputId": "a113d7a4-4d8a-4cb7-8c1f-5543ea07ffef"
      },
      "outputs": [
        {
          "data": {
            "text/plain": [
              "500"
            ]
          },
          "execution_count": 112,
          "metadata": {},
          "output_type": "execute_result"
        }
      ],
      "source": [
        "dData.get(\"배\")"
      ]
    },
    {
      "cell_type": "code",
      "execution_count": null,
      "metadata": {
        "id": "1Yv86hPW0_uE",
        "outputId": "adefe3f4-cf70-4d85-a8ad-9c3aa165948b"
      },
      "outputs": [
        {
          "name": "stdout",
          "output_type": "stream",
          "text": [
            "{'사과': 300, '포도': 200, '배': 500, '키위': 100, '딸기': 100}\n"
          ]
        }
      ],
      "source": [
        "dData[\"딸기\"] = 100\n",
        "print(dData)"
      ]
    },
    {
      "cell_type": "code",
      "execution_count": null,
      "metadata": {
        "id": "5TqMisee0_uE",
        "outputId": "790685e6-4cd2-4e1e-d595-efa3570c8f79"
      },
      "outputs": [
        {
          "data": {
            "text/plain": [
              "300"
            ]
          },
          "execution_count": 114,
          "metadata": {},
          "output_type": "execute_result"
        }
      ],
      "source": [
        "dData.pop(\"사과\")\n"
      ]
    },
    {
      "cell_type": "code",
      "execution_count": null,
      "metadata": {
        "id": "wO9UKSK70_uE",
        "outputId": "2a3b6513-df5b-47ab-cd63-42835e1d7f16"
      },
      "outputs": [
        {
          "data": {
            "text/plain": [
              "{'포도': 200, '배': 500, '키위': 100, '딸기': 100}"
            ]
          },
          "execution_count": 115,
          "metadata": {},
          "output_type": "execute_result"
        }
      ],
      "source": [
        "dData"
      ]
    },
    {
      "cell_type": "code",
      "execution_count": null,
      "metadata": {
        "id": "jHPBAsnX0_uF",
        "outputId": "2a441d92-fe6d-48ea-a7ef-fda40392c99b"
      },
      "outputs": [
        {
          "ename": "TypeError",
          "evalue": "pop expected at least 1 argument, got 0",
          "output_type": "error",
          "traceback": [
            "\u001b[1;31m---------------------------------------------------------------------------\u001b[0m",
            "\u001b[1;31mTypeError\u001b[0m                                 Traceback (most recent call last)",
            "Cell \u001b[1;32mIn [116], line 1\u001b[0m\n\u001b[1;32m----> 1\u001b[0m dData\u001b[39m.\u001b[39;49mpop()\n",
            "\u001b[1;31mTypeError\u001b[0m: pop expected at least 1 argument, got 0"
          ]
        }
      ],
      "source": [
        "dData.pop()"
      ]
    },
    {
      "cell_type": "code",
      "execution_count": null,
      "metadata": {
        "id": "UEEVOVgX0_uF",
        "outputId": "33489ca7-ce61-4933-a620-c61d3969d477"
      },
      "outputs": [
        {
          "data": {
            "text/plain": [
              "['딸기', '배', '키위', '포도']"
            ]
          },
          "execution_count": 117,
          "metadata": {},
          "output_type": "execute_result"
        }
      ],
      "source": [
        "sorted(dData)"
      ]
    },
    {
      "cell_type": "code",
      "execution_count": null,
      "metadata": {
        "id": "ZRSySUXI0_uF",
        "outputId": "44624cd8-18b5-4885-e024-5de5201de20e"
      },
      "outputs": [
        {
          "data": {
            "text/plain": [
              "[100, 100, 200, 500]"
            ]
          },
          "execution_count": 118,
          "metadata": {},
          "output_type": "execute_result"
        }
      ],
      "source": [
        "sorted(dData.values())"
      ]
    },
    {
      "cell_type": "code",
      "execution_count": null,
      "metadata": {
        "id": "lU5Vh9ze0_uG",
        "outputId": "3ed19534-bf73-4558-ec46-565467fbf586"
      },
      "outputs": [
        {
          "data": {
            "text/plain": [
              "{'포도': 200, '배': 500, '키위': 100, '딸기': 100}"
            ]
          },
          "execution_count": 119,
          "metadata": {},
          "output_type": "execute_result"
        }
      ],
      "source": [
        "dData"
      ]
    },
    {
      "cell_type": "code",
      "execution_count": null,
      "metadata": {
        "id": "wmF-wDf90_uG"
      },
      "outputs": [],
      "source": [
        "def f(x):\n",
        "  # x에 10을 더한 값을 출력\n",
        "  return x + 10"
      ]
    },
    {
      "cell_type": "code",
      "execution_count": null,
      "metadata": {
        "id": "UZYfluza0_uG",
        "outputId": "6074068f-7476-4c09-cb70-6f435034be7a"
      },
      "outputs": [
        {
          "data": {
            "text/plain": [
              "12"
            ]
          },
          "execution_count": 121,
          "metadata": {},
          "output_type": "execute_result"
        }
      ],
      "source": [
        "f(2)"
      ]
    },
    {
      "cell_type": "code",
      "execution_count": null,
      "metadata": {
        "id": "gly6XRg80_uH"
      },
      "outputs": [],
      "source": []
    }
  ],
  "metadata": {
    "kernelspec": {
      "display_name": "Python 3.9.7 ('base')",
      "language": "python",
      "name": "python3"
    },
    "language_info": {
      "codemirror_mode": {
        "name": "ipython",
        "version": 3
      },
      "file_extension": ".py",
      "mimetype": "text/x-python",
      "name": "python",
      "nbconvert_exporter": "python",
      "pygments_lexer": "ipython3",
      "version": "3.9.7"
    },
    "orig_nbformat": 4,
    "vscode": {
      "interpreter": {
        "hash": "b5458f2fcbcc18bdb324c73384cccd8abe80ba508e4363e8895ca5b6965f30b8"
      }
    },
    "colab": {
      "provenance": [],
      "include_colab_link": true
    }
  },
  "nbformat": 4,
  "nbformat_minor": 0
}