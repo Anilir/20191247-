{
  "cells": [
    {
      "cell_type": "markdown",
      "metadata": {
        "id": "view-in-github",
        "colab_type": "text"
      },
      "source": [
        "<a href=\"https://colab.research.google.com/github/Anilir/MyReport/blob/main/middlePython.ipynb\" target=\"_parent\"><img src=\"https://colab.research.google.com/assets/colab-badge.svg\" alt=\"Open In Colab\"/></a>"
      ]
    },
    {
      "cell_type": "code",
      "execution_count": null,
      "metadata": {
        "id": "ftnSjJQuwPv-"
      },
      "outputs": [],
      "source": [
        "strVal = 'data science'\n",
        "nVal = 12345\n",
        "fVal = 1.2\n",
        "lVal = ['data', 'science']\n",
        "dVal = {'lecture' : 'data science'}\n",
        "bVal = True"
      ]
    },
    {
      "cell_type": "code",
      "execution_count": null,
      "metadata": {
        "id": "PcxEarGewPwB"
      },
      "outputs": [],
      "source": [
        "# 기본적인 주석"
      ]
    },
    {
      "cell_type": "code",
      "execution_count": null,
      "metadata": {
        "id": "_ETRYG2NwPwB",
        "outputId": "09dfdd5f-0c01-42dc-85c5-66d1dc80384b"
      },
      "outputs": [
        {
          "data": {
            "text/plain": [
              "' \\n이런 형태의 주석도 많이 사용\\n'"
            ]
          },
          "execution_count": 61,
          "metadata": {},
          "output_type": "execute_result"
        }
      ],
      "source": [
        "''' \n",
        "이런 형태의 주석도 많이 사용\n",
        "'''"
      ]
    },
    {
      "cell_type": "code",
      "execution_count": null,
      "metadata": {
        "id": "HUXClXYgwPwD",
        "outputId": "8d3bebf4-4225-465a-84b5-3ad6a459cc00"
      },
      "outputs": [
        {
          "data": {
            "text/plain": [
              "'data science'"
            ]
          },
          "execution_count": 59,
          "metadata": {},
          "output_type": "execute_result"
        }
      ],
      "source": [
        "strVal"
      ]
    },
    {
      "cell_type": "code",
      "execution_count": null,
      "metadata": {
        "id": "E7MJ7MBAwPwE",
        "outputId": "dfb56d11-ed44-4479-e31b-db56b048ae97"
      },
      "outputs": [
        {
          "data": {
            "text/plain": [
              "12345"
            ]
          },
          "execution_count": 15,
          "metadata": {},
          "output_type": "execute_result"
        }
      ],
      "source": [
        "nVal"
      ]
    },
    {
      "cell_type": "code",
      "execution_count": null,
      "metadata": {
        "id": "HBKcGoipwPwF",
        "outputId": "4e0dc9bd-a532-4230-e4c8-3537faa2f06d"
      },
      "outputs": [
        {
          "data": {
            "text/plain": [
              "1.2"
            ]
          },
          "execution_count": 16,
          "metadata": {},
          "output_type": "execute_result"
        }
      ],
      "source": [
        "fVal"
      ]
    },
    {
      "cell_type": "code",
      "execution_count": null,
      "metadata": {
        "id": "VJhKJ_hmwPwG",
        "outputId": "bc1ec626-7e57-46e5-822d-19ca3f5ee53c"
      },
      "outputs": [
        {
          "data": {
            "text/plain": [
              "['data', 'science']"
            ]
          },
          "execution_count": 17,
          "metadata": {},
          "output_type": "execute_result"
        }
      ],
      "source": [
        "lVal"
      ]
    },
    {
      "cell_type": "code",
      "execution_count": null,
      "metadata": {
        "id": "jMVpZnVrwPwG",
        "outputId": "8bfe2ae2-b09d-4ad8-9d0a-f1fa276f1362"
      },
      "outputs": [
        {
          "data": {
            "text/plain": [
              "{'lecture': 'data science'}"
            ]
          },
          "execution_count": 18,
          "metadata": {},
          "output_type": "execute_result"
        }
      ],
      "source": [
        "dVal"
      ]
    },
    {
      "cell_type": "code",
      "execution_count": null,
      "metadata": {
        "id": "wGXDgazPwPwH",
        "outputId": "6fa3aca4-98ff-4610-99f5-8dccba026d81"
      },
      "outputs": [
        {
          "data": {
            "text/plain": [
              "True"
            ]
          },
          "execution_count": 19,
          "metadata": {},
          "output_type": "execute_result"
        }
      ],
      "source": [
        "bVal"
      ]
    },
    {
      "cell_type": "code",
      "execution_count": null,
      "metadata": {
        "id": "WX-HkL7KwPwI",
        "outputId": "72192731-6514-4e73-cfa8-3bc8bbb3a908"
      },
      "outputs": [
        {
          "name": "stdout",
          "output_type": "stream",
          "text": [
            "strVal :  data science\n",
            "nVal :  12345\n",
            "fVal :  1.2\n",
            "lVal :  ['data', 'science']\n",
            "dVal :  {'lecture': 'data science'}\n",
            "bVal :  True\n"
          ]
        }
      ],
      "source": [
        "print('strVal : ', strVal)\n",
        "print('nVal : ', nVal)\n",
        "print('fVal : ', fVal)\n",
        "print('lVal : ', lVal)\n",
        "print('dVal : ', dVal)\n",
        "print('bVal : ', bVal)"
      ]
    },
    {
      "cell_type": "code",
      "execution_count": null,
      "metadata": {
        "id": "Q-i-bRIxwPwJ",
        "outputId": "ce67f2e3-44ac-4508-dffb-a9b8a9ada791"
      },
      "outputs": [
        {
          "name": "stdout",
          "output_type": "stream",
          "text": [
            "strVal :  <class 'str'>\n",
            "nVal :  <class 'int'>\n",
            "fVal :  <class 'float'>\n",
            "lVal :  <class 'list'>\n",
            "dVal :  <class 'dict'>\n",
            "bVal :  <class 'bool'>\n"
          ]
        }
      ],
      "source": [
        "print('strVal : ', type(strVal))\n",
        "print('nVal : ', type(nVal))\n",
        "print('fVal : ', type(fVal))\n",
        "print('lVal : ', type(lVal))\n",
        "print('dVal : ', type(dVal))\n",
        "print('bVal : ', type(bVal))"
      ]
    },
    {
      "cell_type": "code",
      "execution_count": null,
      "metadata": {
        "id": "xvTvEH1XwPwK"
      },
      "outputs": [],
      "source": [
        "'''\n",
        "같은 변수명일 경우, 이전 데이터를 덮어씀\n",
        "'''\n",
        "nVal = 16\n",
        "fVal = 3.14"
      ]
    },
    {
      "cell_type": "code",
      "execution_count": null,
      "metadata": {
        "id": "M2IYDpEDwPwK",
        "outputId": "fd2cc9f9-1103-4928-97e2-1c57055887b0"
      },
      "outputs": [
        {
          "name": "stdout",
          "output_type": "stream",
          "text": [
            "10진수 표현 :  16\n",
            "2진수 표현 :  0b10000\n",
            "8진수 표현 :  0o20\n",
            "16진수 표현 :  0x10\n"
          ]
        }
      ],
      "source": [
        "print('10진수 표현 : ', nVal)\n",
        "print('2진수 표현 : ', bin(nVal))\n",
        "print('8진수 표현 : ', oct(nVal))\n",
        "print('16진수 표현 : ', hex(nVal)) "
      ]
    },
    {
      "cell_type": "code",
      "execution_count": null,
      "metadata": {
        "id": "eVS2Buq2wPwM"
      },
      "outputs": [],
      "source": [
        "btVal = True\n",
        "bfVal = False"
      ]
    },
    {
      "cell_type": "code",
      "execution_count": null,
      "metadata": {
        "id": "CvfNdQYFwPwM",
        "outputId": "303cb1e9-a43e-49eb-b001-f77430eea772"
      },
      "outputs": [
        {
          "ename": "NameError",
          "evalue": "name 'TRUE' is not defined",
          "output_type": "error",
          "traceback": [
            "\u001b[1;31m---------------------------------------------------------------------------\u001b[0m",
            "\u001b[1;31mNameError\u001b[0m                                 Traceback (most recent call last)",
            "Cell \u001b[1;32mIn [25], line 1\u001b[0m\n\u001b[1;32m----> 1\u001b[0m btVal \u001b[39m=\u001b[39m TRUE\n\u001b[0;32m      2\u001b[0m bfVal \u001b[39m=\u001b[39m FALSE\n",
            "\u001b[1;31mNameError\u001b[0m: name 'TRUE' is not defined"
          ]
        }
      ],
      "source": [
        "btVal = TRUE\n",
        "bfVal = FALSE"
      ]
    },
    {
      "cell_type": "code",
      "execution_count": null,
      "metadata": {
        "id": "DUMNo9M_wPwN",
        "outputId": "a9c3b3c8-e695-4e9d-a617-b630a1f1ffe2"
      },
      "outputs": [
        {
          "ename": "NameError",
          "evalue": "name 'true' is not defined",
          "output_type": "error",
          "traceback": [
            "\u001b[1;31m---------------------------------------------------------------------------\u001b[0m",
            "\u001b[1;31mNameError\u001b[0m                                 Traceback (most recent call last)",
            "Cell \u001b[1;32mIn [26], line 1\u001b[0m\n\u001b[1;32m----> 1\u001b[0m btVal \u001b[39m=\u001b[39m true\n\u001b[0;32m      2\u001b[0m bfVal \u001b[39m=\u001b[39m false\n",
            "\u001b[1;31mNameError\u001b[0m: name 'true' is not defined"
          ]
        }
      ],
      "source": [
        "btVal = true\n",
        "bfVal = false"
      ]
    },
    {
      "cell_type": "code",
      "execution_count": null,
      "metadata": {
        "id": "Z5MC736TwPwN",
        "outputId": "0ba4402c-96e2-44f2-cf9c-afb6ef49182e"
      },
      "outputs": [
        {
          "data": {
            "text/plain": [
              "False"
            ]
          },
          "execution_count": 27,
          "metadata": {},
          "output_type": "execute_result"
        }
      ],
      "source": [
        "10 == 11"
      ]
    },
    {
      "cell_type": "code",
      "execution_count": null,
      "metadata": {
        "id": "2gc7y2_awPwO",
        "outputId": "e7198386-8d4b-42ad-8f78-5fd023e3b821"
      },
      "outputs": [
        {
          "data": {
            "text/plain": [
              "True"
            ]
          },
          "execution_count": 28,
          "metadata": {},
          "output_type": "execute_result"
        }
      ],
      "source": [
        "10 != 11"
      ]
    },
    {
      "cell_type": "code",
      "execution_count": null,
      "metadata": {
        "id": "2tpuZm26wPwP",
        "outputId": "9ef0f3d6-60dd-46f2-e106-def6087c757d"
      },
      "outputs": [
        {
          "data": {
            "text/plain": [
              "False"
            ]
          },
          "execution_count": 29,
          "metadata": {},
          "output_type": "execute_result"
        }
      ],
      "source": [
        "10 >= 11"
      ]
    },
    {
      "cell_type": "code",
      "execution_count": null,
      "metadata": {
        "id": "05PaNvSkwPwP",
        "outputId": "87d2ce88-2b43-40b7-dfa2-bcd03c742dfe"
      },
      "outputs": [
        {
          "data": {
            "text/plain": [
              "True"
            ]
          },
          "execution_count": 30,
          "metadata": {},
          "output_type": "execute_result"
        }
      ],
      "source": [
        "10 <= 11"
      ]
    },
    {
      "cell_type": "code",
      "execution_count": null,
      "metadata": {
        "id": "KYhEu4r8wPwP",
        "outputId": "20809c76-53b7-4088-ed38-e30d07968cfd"
      },
      "outputs": [
        {
          "data": {
            "text/plain": [
              "False"
            ]
          },
          "execution_count": 31,
          "metadata": {},
          "output_type": "execute_result"
        }
      ],
      "source": [
        "10 > 11"
      ]
    },
    {
      "cell_type": "code",
      "execution_count": null,
      "metadata": {
        "id": "EFcY24r4wPwQ",
        "outputId": "97a49cba-8687-4f85-9929-5fdf42e42ce5"
      },
      "outputs": [
        {
          "data": {
            "text/plain": [
              "True"
            ]
          },
          "execution_count": 32,
          "metadata": {},
          "output_type": "execute_result"
        }
      ],
      "source": [
        "10 < 11"
      ]
    },
    {
      "cell_type": "code",
      "execution_count": null,
      "metadata": {
        "id": "6wBNV6dNwPwQ"
      },
      "outputs": [],
      "source": [
        "nBig = 100\n",
        "nSmall = 10"
      ]
    },
    {
      "cell_type": "code",
      "execution_count": null,
      "metadata": {
        "id": "_E5wvjQCwPwR",
        "outputId": "f7a18a65-d2c1-4f4c-dbde-de2ed9562060"
      },
      "outputs": [
        {
          "name": "stdout",
          "output_type": "stream",
          "text": [
            "False\n",
            "True\n",
            "True\n",
            "False\n",
            "True\n",
            "False\n"
          ]
        }
      ],
      "source": [
        "print(nBig == nSmall)\n",
        "print(nBig != nSmall)\n",
        "print(nBig >= nSmall)\n",
        "print(nBig <= nSmall)\n",
        "print(nBig > nSmall)\n",
        "print(nBig < nSmall)"
      ]
    },
    {
      "cell_type": "code",
      "execution_count": null,
      "metadata": {
        "id": "hENhUyVqwPwR",
        "outputId": "cdffbc6e-e903-4e7f-a377-823dc8718c80"
      },
      "outputs": [
        {
          "ename": "SyntaxError",
          "evalue": "invalid syntax (2189819302.py, line 1)",
          "output_type": "error",
          "traceback": [
            "\u001b[1;36m  Cell \u001b[1;32mIn [35], line 1\u001b[1;36m\u001b[0m\n\u001b[1;33m    print(nBig =< nSmall)\u001b[0m\n\u001b[1;37m                ^\u001b[0m\n\u001b[1;31mSyntaxError\u001b[0m\u001b[1;31m:\u001b[0m invalid syntax\n"
          ]
        }
      ],
      "source": [
        "print(nBig =< nSmall)"
      ]
    },
    {
      "cell_type": "code",
      "execution_count": null,
      "metadata": {
        "id": "eXYvWUEOwPwR",
        "outputId": "1533a620-93ba-47e1-db7e-03059b5728e9"
      },
      "outputs": [
        {
          "ename": "SyntaxError",
          "evalue": "invalid syntax (4185127180.py, line 1)",
          "output_type": "error",
          "traceback": [
            "\u001b[1;36m  Cell \u001b[1;32mIn [36], line 1\u001b[1;36m\u001b[0m\n\u001b[1;33m    print(nBig => nSmall)\u001b[0m\n\u001b[1;37m                ^\u001b[0m\n\u001b[1;31mSyntaxError\u001b[0m\u001b[1;31m:\u001b[0m invalid syntax\n"
          ]
        }
      ],
      "source": [
        "print(nBig => nSmall)"
      ]
    },
    {
      "cell_type": "code",
      "execution_count": null,
      "metadata": {
        "id": "S3W2Kfu4wPwS"
      },
      "outputs": [],
      "source": [
        "strData = 'data'\n",
        "strSci = \"Science\""
      ]
    },
    {
      "cell_type": "code",
      "execution_count": null,
      "metadata": {
        "id": "OBJVJG01wPwS"
      },
      "outputs": [],
      "source": [
        "strLecture = strData + strSci"
      ]
    },
    {
      "cell_type": "code",
      "execution_count": null,
      "metadata": {
        "id": "tFQTUqtAwPwT",
        "outputId": "5127e2ae-5d6a-4d11-9ad5-4a02ec478b74"
      },
      "outputs": [
        {
          "data": {
            "text/plain": [
              "'dataScience'"
            ]
          },
          "execution_count": 39,
          "metadata": {},
          "output_type": "execute_result"
        }
      ],
      "source": [
        "strLecture"
      ]
    },
    {
      "cell_type": "code",
      "execution_count": null,
      "metadata": {
        "id": "cIOcWyd8wPwT",
        "outputId": "68057aa2-a999-4109-8413-9c047ccbcb68"
      },
      "outputs": [
        {
          "data": {
            "text/plain": [
              "'data Science'"
            ]
          },
          "execution_count": 40,
          "metadata": {},
          "output_type": "execute_result"
        }
      ],
      "source": [
        "strLecture = strData +\" \"+ strSci\n",
        "strLecture"
      ]
    },
    {
      "cell_type": "code",
      "execution_count": null,
      "metadata": {
        "id": "BrKR2eCywPwU",
        "outputId": "2dce5cdb-9dbc-45bd-96b5-16f0c4e02804"
      },
      "outputs": [
        {
          "data": {
            "text/plain": [
              "['data', 'Science']"
            ]
          },
          "execution_count": 41,
          "metadata": {},
          "output_type": "execute_result"
        }
      ],
      "source": [
        "strLecture.split()"
      ]
    },
    {
      "cell_type": "code",
      "execution_count": null,
      "metadata": {
        "id": "_USVmVkOwPwU"
      },
      "outputs": [],
      "source": [
        "lSeperate = strLecture.split()"
      ]
    },
    {
      "cell_type": "code",
      "execution_count": null,
      "metadata": {
        "id": "k-crkeDqwPwV",
        "outputId": "6d709c5b-da14-4ec6-f09f-d93826b0c647"
      },
      "outputs": [
        {
          "data": {
            "text/plain": [
              "list"
            ]
          },
          "execution_count": 43,
          "metadata": {},
          "output_type": "execute_result"
        }
      ],
      "source": [
        "type(lSeperate)"
      ]
    },
    {
      "cell_type": "code",
      "execution_count": null,
      "metadata": {
        "id": "f1Yd6CoGwPwV"
      },
      "outputs": [],
      "source": [
        "strHello = \"안녕하세요. 반갑습니다.\""
      ]
    },
    {
      "cell_type": "code",
      "execution_count": null,
      "metadata": {
        "id": "a28aRozmwPwV",
        "outputId": "bbee9335-45d5-40c4-968d-0cd6845dad44"
      },
      "outputs": [
        {
          "data": {
            "text/plain": [
              "7"
            ]
          },
          "execution_count": 45,
          "metadata": {},
          "output_type": "execute_result"
        }
      ],
      "source": [
        "strHello.find(\"반갑\")"
      ]
    },
    {
      "cell_type": "code",
      "execution_count": null,
      "metadata": {
        "id": "dSgllG86wPwW",
        "outputId": "ddb4ecfd-5d2f-43ed-d658-cd010c9babee"
      },
      "outputs": [
        {
          "data": {
            "text/plain": [
              "-1"
            ]
          },
          "execution_count": 46,
          "metadata": {},
          "output_type": "execute_result"
        }
      ],
      "source": [
        "strHello.find(\"hello\")"
      ]
    },
    {
      "cell_type": "code",
      "execution_count": null,
      "metadata": {
        "id": "ZHDy59hKwPwW",
        "outputId": "3cb8a46d-7230-41da-8dcf-811209296215"
      },
      "outputs": [
        {
          "data": {
            "text/plain": [
              "True"
            ]
          },
          "execution_count": 47,
          "metadata": {},
          "output_type": "execute_result"
        }
      ],
      "source": [
        "\"반갑\" in strHello"
      ]
    },
    {
      "cell_type": "code",
      "execution_count": null,
      "metadata": {
        "id": "6J-VKInNwPwX",
        "outputId": "f7644ea9-6068-47de-a6b3-0cde08e5a243"
      },
      "outputs": [
        {
          "data": {
            "text/plain": [
              "'안녕하세요? 반갑습니다?'"
            ]
          },
          "execution_count": 48,
          "metadata": {},
          "output_type": "execute_result"
        }
      ],
      "source": [
        "strHello.replace('.', '?')"
      ]
    },
    {
      "cell_type": "code",
      "execution_count": null,
      "metadata": {
        "id": "GG9TPL0HwPwZ",
        "outputId": "a7cb4127-5de7-4ac5-efda-7319e2a15f09"
      },
      "outputs": [
        {
          "data": {
            "text/plain": [
              "'안녕하셔유. 반갑습니다.'"
            ]
          },
          "execution_count": 49,
          "metadata": {},
          "output_type": "execute_result"
        }
      ],
      "source": [
        "strHello.replace('.', '?')\n",
        "strHello.replace(\"하세요\", \"하셔유\")"
      ]
    },
    {
      "cell_type": "code",
      "execution_count": null,
      "metadata": {
        "id": "s4NLKpgYwPwa",
        "outputId": "44b456ed-2fe9-4634-b600-703e66afbd5d"
      },
      "outputs": [
        {
          "data": {
            "text/plain": [
              "'안녕하세요. 반갑습니다.'"
            ]
          },
          "execution_count": 50,
          "metadata": {},
          "output_type": "execute_result"
        }
      ],
      "source": [
        "strHello"
      ]
    },
    {
      "cell_type": "code",
      "execution_count": null,
      "metadata": {
        "id": "9by1jV4DwPwb",
        "outputId": "5d12c461-6144-433d-e70d-6373c12d2e1c"
      },
      "outputs": [
        {
          "data": {
            "text/plain": [
              "'안녕하셔유? 반갑습니다?'"
            ]
          },
          "execution_count": 51,
          "metadata": {},
          "output_type": "execute_result"
        }
      ],
      "source": [
        "strNewHello = strHello.replace('.', '?')\n",
        "strNewHello = strNewHello.replace(\"하세요\", \"하셔유\")\n",
        "strNewHello"
      ]
    },
    {
      "cell_type": "code",
      "execution_count": null,
      "metadata": {
        "id": "KpvmK5tYwPwc",
        "outputId": "be6df0ba-4138-4834-c7c0-8b608e008c90"
      },
      "outputs": [
        {
          "data": {
            "text/plain": [
              "'안녕하세요. '"
            ]
          },
          "execution_count": 52,
          "metadata": {},
          "output_type": "execute_result"
        }
      ],
      "source": [
        "strHello.strip('반갑습니다.')"
      ]
    },
    {
      "cell_type": "code",
      "execution_count": null,
      "metadata": {
        "id": "mhml0CuwwPwc",
        "outputId": "705cd8f5-c305-4c52-bc97-d88b2cfe96cc"
      },
      "outputs": [
        {
          "data": {
            "text/plain": [
              "'안녕하세요. 반갑습니다.'"
            ]
          },
          "execution_count": 53,
          "metadata": {},
          "output_type": "execute_result"
        }
      ],
      "source": [
        "strHello"
      ]
    },
    {
      "cell_type": "code",
      "execution_count": null,
      "metadata": {
        "id": "OjzXo8sFwPwc",
        "outputId": "8f6b4b7e-bcf5-47de-e7b8-4a156452a060"
      },
      "outputs": [
        {
          "name": "stdout",
          "output_type": "stream",
          "text": [
            "[1, 2, 3, 4, 5]\n",
            "type :  <class 'list'>\n"
          ]
        }
      ],
      "source": [
        "lnData = [1,2,3,4,5]\n",
        "print(lnData)\n",
        "print('type : ', type(lnData))"
      ]
    },
    {
      "cell_type": "code",
      "execution_count": null,
      "metadata": {
        "id": "NtVVE0VMwPwd",
        "outputId": "5cdab78b-bf3c-4e5c-e0fc-820157b1e7cc"
      },
      "outputs": [
        {
          "name": "stdout",
          "output_type": "stream",
          "text": [
            "1\n",
            "4\n"
          ]
        }
      ],
      "source": [
        "print(lnData[0])\n",
        "print(lnData[3])"
      ]
    },
    {
      "cell_type": "code",
      "execution_count": null,
      "metadata": {
        "id": "4VVuwefFwPwd",
        "outputId": "a70ee2d5-3da9-4281-cb9c-b6debcf527ac"
      },
      "outputs": [
        {
          "name": "stdout",
          "output_type": "stream",
          "text": [
            "[5, 2, 3, 4, 5]\n"
          ]
        }
      ],
      "source": [
        "lnData[0] = lnData[4]\n",
        "print(lnData)"
      ]
    },
    {
      "cell_type": "code",
      "execution_count": null,
      "metadata": {
        "id": "Aetnek86wPwd",
        "outputId": "772f48c0-7da6-48d5-99f5-49bc30eabb72"
      },
      "outputs": [
        {
          "name": "stdout",
          "output_type": "stream",
          "text": [
            "[3, 4]\n"
          ]
        }
      ],
      "source": [
        "print(lnData[2:4])"
      ]
    },
    {
      "cell_type": "code",
      "execution_count": null,
      "metadata": {
        "id": "nLzqgBfdwPwd",
        "outputId": "5f1d4857-16c7-47eb-8337-244274bbaea3"
      },
      "outputs": [
        {
          "data": {
            "text/plain": [
              "[1, 2, 3, 4, 5, 'a', 'b', 'c']"
            ]
          },
          "execution_count": 65,
          "metadata": {},
          "output_type": "execute_result"
        }
      ],
      "source": [
        "lnData = [1,2,3,4,5]\n",
        "lstrData=['a', 'b', 'c']\n",
        "\n",
        "lnData + lstrData"
      ]
    },
    {
      "cell_type": "code",
      "execution_count": null,
      "metadata": {
        "id": "FQe1DbDawPwe",
        "outputId": "651119d6-5ba7-40be-eb81-f0d5e24032ba"
      },
      "outputs": [
        {
          "data": {
            "text/plain": [
              "[1, 2, 3, 4, 5, 10]"
            ]
          },
          "execution_count": 66,
          "metadata": {},
          "output_type": "execute_result"
        }
      ],
      "source": [
        "lnData.append(10)\n",
        "lnData"
      ]
    },
    {
      "cell_type": "code",
      "execution_count": null,
      "metadata": {
        "id": "tHjKLW5NwPwe",
        "outputId": "48f679ee-9adb-4bc9-a1e6-3b0f90997377"
      },
      "outputs": [
        {
          "data": {
            "text/plain": [
              "['python', 1, 2, 3, 4, 5, 10]"
            ]
          },
          "execution_count": 67,
          "metadata": {},
          "output_type": "execute_result"
        }
      ],
      "source": [
        "lnData.insert(0, 'python')\n",
        "lnData"
      ]
    },
    {
      "cell_type": "code",
      "execution_count": null,
      "metadata": {
        "id": "CsI8vpjAwPwe",
        "outputId": "385fed2d-c163-4d11-ad87-82a76b696b65"
      },
      "outputs": [
        {
          "data": {
            "text/plain": [
              "['python', 1, 2, 3, 4, 10]"
            ]
          },
          "execution_count": 68,
          "metadata": {},
          "output_type": "execute_result"
        }
      ],
      "source": [
        "del lnData[5]\n",
        "lnData"
      ]
    },
    {
      "cell_type": "code",
      "execution_count": null,
      "metadata": {
        "id": "ZNjJU_hHwPwe",
        "outputId": "bf037d39-b539-43ed-b4ed-3765b8810887"
      },
      "outputs": [
        {
          "data": {
            "text/plain": [
              "['python', 1, 2, 3, 4, 10]"
            ]
          },
          "execution_count": 69,
          "metadata": {},
          "output_type": "execute_result"
        }
      ],
      "source": [
        "lnData"
      ]
    },
    {
      "cell_type": "code",
      "execution_count": null,
      "metadata": {
        "id": "gn5eNzU2wPwe",
        "outputId": "7d397f53-8c1e-4d18-b65b-651d203daca4"
      },
      "outputs": [
        {
          "data": {
            "text/plain": [
              "[1, 2, 3, 4, 10]"
            ]
          },
          "execution_count": 70,
          "metadata": {},
          "output_type": "execute_result"
        }
      ],
      "source": [
        "lnData.pop(0)\n",
        "lnData"
      ]
    },
    {
      "cell_type": "code",
      "execution_count": null,
      "metadata": {
        "id": "3hTmlNA1wPwf",
        "outputId": "319b97a0-672e-446c-a08b-87319301088d"
      },
      "outputs": [
        {
          "data": {
            "text/plain": [
              "[1, 2, 3, 4]"
            ]
          },
          "execution_count": 71,
          "metadata": {},
          "output_type": "execute_result"
        }
      ],
      "source": [
        "lnData.pop()\n",
        "lnData"
      ]
    },
    {
      "cell_type": "code",
      "execution_count": null,
      "metadata": {
        "id": "Ps2wD_FXwPwf",
        "outputId": "daf6eaa5-0f7b-40fd-9aa3-470324652bad"
      },
      "outputs": [
        {
          "data": {
            "text/plain": [
              "[]"
            ]
          },
          "execution_count": 72,
          "metadata": {},
          "output_type": "execute_result"
        }
      ],
      "source": [
        "lnData.clear()\n",
        "lnData"
      ]
    },
    {
      "cell_type": "code",
      "execution_count": null,
      "metadata": {
        "id": "UlhlK_16wPwf",
        "outputId": "c943ed0e-6bf0-4a4f-fdf5-ea4110bd6595"
      },
      "outputs": [
        {
          "name": "stdout",
          "output_type": "stream",
          "text": [
            "('사과', '딸기', '바나나', '토마토', '키위')\n",
            "<class 'tuple'>\n"
          ]
        }
      ],
      "source": [
        "# 튜플의 기본 구조\n",
        "tVal = (\"사과\", \"딸기\", \"바나나\", \"토마토\", \"키위\")\n",
        "\n",
        "print(tVal)\n",
        "print(type(tVal))"
      ]
    },
    {
      "cell_type": "code",
      "execution_count": null,
      "metadata": {
        "id": "ykQhkCSEwPwf",
        "outputId": "fd9e26a5-4d64-4058-edea-24ddd3fd3f97"
      },
      "outputs": [
        {
          "ename": "SyntaxError",
          "evalue": "EOL while scanning string literal (3112645627.py, line 1)",
          "output_type": "error",
          "traceback": [
            "\u001b[1;36m  Cell \u001b[1;32mIn [74], line 1\u001b[1;36m\u001b[0m\n\u001b[1;33m    tVal[0] = \"포도\u001b[0m\n\u001b[1;37m                 ^\u001b[0m\n\u001b[1;31mSyntaxError\u001b[0m\u001b[1;31m:\u001b[0m EOL while scanning string literal\n"
          ]
        }
      ],
      "source": [
        "tVal[0] = \"포도"
      ]
    },
    {
      "cell_type": "code",
      "execution_count": null,
      "metadata": {
        "id": "rHvherMXwPwg",
        "outputId": "ad34a52e-70d1-490d-b127-ef41ea1178c4"
      },
      "outputs": [
        {
          "data": {
            "text/plain": [
              "3"
            ]
          },
          "execution_count": 75,
          "metadata": {},
          "output_type": "execute_result"
        }
      ],
      "source": [
        "tData = ( 1, 2, 3, 1, 2, 3, 4, 5, 1, 2, 7)\n",
        "tData.count(1)"
      ]
    },
    {
      "cell_type": "code",
      "execution_count": null,
      "metadata": {
        "id": "BQUcaxbvwPwg",
        "outputId": "cddeb029-c6b0-4367-d135-2ff7b49a1c53"
      },
      "outputs": [
        {
          "data": {
            "text/plain": [
              "5"
            ]
          },
          "execution_count": 76,
          "metadata": {},
          "output_type": "execute_result"
        }
      ],
      "source": [
        "len(tVal)"
      ]
    },
    {
      "cell_type": "code",
      "execution_count": null,
      "metadata": {
        "id": "G1i5Av5WwPwg",
        "outputId": "175527a3-1992-4332-a974-4d3bbbe12bec"
      },
      "outputs": [
        {
          "data": {
            "text/plain": [
              "11"
            ]
          },
          "execution_count": 77,
          "metadata": {},
          "output_type": "execute_result"
        }
      ],
      "source": [
        "len(tData)"
      ]
    },
    {
      "cell_type": "code",
      "execution_count": null,
      "metadata": {
        "id": "YuLhlCBawPwg",
        "outputId": "1afb0113-5fba-4b09-97e8-dbc2863a6842"
      },
      "outputs": [
        {
          "name": "stdout",
          "output_type": "stream",
          "text": [
            "(3, 1, 2)\n"
          ]
        }
      ],
      "source": [
        "print(tData[2:5])"
      ]
    },
    {
      "cell_type": "code",
      "execution_count": null,
      "metadata": {
        "id": "EhUrbho-wPwg",
        "outputId": "0d211dc5-b677-4457-c6f0-206b7d26a554"
      },
      "outputs": [
        {
          "name": "stdout",
          "output_type": "stream",
          "text": [
            "('사과', '딸기', '바나나', '토마토', '키위', 1, 2, 3, 1, 2, 3, 4, 5, 1, 2, 7)\n"
          ]
        }
      ],
      "source": [
        "tTuple = tVal+ tData\n",
        "print(tTuple)"
      ]
    },
    {
      "cell_type": "code",
      "execution_count": null,
      "metadata": {
        "id": "Ej0ZDonIwPwg",
        "outputId": "d4abdae5-253d-4801-dfd4-e2d0caf02b41"
      },
      "outputs": [
        {
          "data": {
            "text/plain": [
              "(1, 2, 3, 1, 2, 3, 4, 5, 1, 2, 7, 1, 2, 3, 1, 2, 3, 4, 5, 1, 2, 7)"
            ]
          },
          "execution_count": 80,
          "metadata": {},
          "output_type": "execute_result"
        }
      ],
      "source": [
        "tData * 2"
      ]
    },
    {
      "cell_type": "code",
      "execution_count": null,
      "metadata": {
        "id": "XI47Ckn6wPwh",
        "outputId": "2f0d8faa-ed1a-44cc-91bf-5232fce95e9d"
      },
      "outputs": [
        {
          "data": {
            "text/plain": [
              "(1, 2, 3, 1, 2, 3, 4, 5, 1, 2, 7)"
            ]
          },
          "execution_count": 81,
          "metadata": {},
          "output_type": "execute_result"
        }
      ],
      "source": [
        "tData"
      ]
    },
    {
      "cell_type": "code",
      "execution_count": null,
      "metadata": {
        "id": "I6wkATXqwPwh",
        "outputId": "4ac29ba8-8e56-4ff9-99a4-fa6664f946fd"
      },
      "outputs": [
        {
          "name": "stdout",
          "output_type": "stream",
          "text": [
            "(1, 2, 3, 1, 2, 3, 4, 5, 1, 2, 7, 1, 2, 3, 1, 2, 3, 4, 5, 1, 2, 7)\n"
          ]
        }
      ],
      "source": [
        "tData2 = tData * 2\n",
        "print(tData2)"
      ]
    },
    {
      "cell_type": "code",
      "execution_count": null,
      "metadata": {
        "id": "tm9gZnI3wPwh",
        "outputId": "cf3a6a4b-4922-4503-9785-b8d33c877128"
      },
      "outputs": [
        {
          "name": "stdout",
          "output_type": "stream",
          "text": [
            "tVal memory =  0x1b5ccf5ae00\n",
            "tVal memory =  0x1b5ccf7ae40\n",
            "('사과', '딸기', '바나나', '토마토', '키위', '사과', '딸기', '바나나', '토마토', '키위')\n"
          ]
        }
      ],
      "source": [
        "print(\"tVal memory = \", hex(id(tVal)))\n",
        "tVal = tVal * 2\n",
        "print(\"tVal memory = \", hex(id(tVal)))\n",
        "print(tVal)"
      ]
    },
    {
      "cell_type": "code",
      "execution_count": null,
      "metadata": {
        "id": "7SFXPAeywPwh",
        "outputId": "588b49d2-cff8-48e0-8765-4b870dbbf5c5"
      },
      "outputs": [
        {
          "name": "stdout",
          "output_type": "stream",
          "text": [
            "tVal memory =  0x1b5ccf7ae40\n",
            "tVal memory =  0x1b5cce98a00\n",
            "('사과', '딸기', '바나나', '토마토', '키위', '사과', '딸기', '바나나', '토마토', '키위', '사과', '딸기', '바나나', '토마토', '키위', '사과', '딸기', '바나나', '토마토', '키위')\n"
          ]
        }
      ],
      "source": [
        "print(\"tVal memory = \", hex(id(tVal)))\n",
        "tVal = tVal + tVal\n",
        "print(\"tVal memory = \", hex(id(tVal)))\n",
        "print(tVal)"
      ]
    },
    {
      "cell_type": "code",
      "execution_count": null,
      "metadata": {
        "id": "W7NEpteHwPwh",
        "outputId": "d1291661-d797-4234-f77f-0afd27e5c3b1"
      },
      "outputs": [
        {
          "name": "stdout",
          "output_type": "stream",
          "text": [
            "{1, 2, 3, 4, 5}\n",
            "<class 'set'>\n"
          ]
        }
      ],
      "source": [
        "sVal = {1, 2, 3, 4, 5}\n",
        "print(sVal)\n",
        "print(type(sVal))"
      ]
    },
    {
      "cell_type": "code",
      "execution_count": null,
      "metadata": {
        "id": "PZWLu4VIwPwi",
        "outputId": "b722c324-ab02-44bc-9a7f-fb1ad2aa891c"
      },
      "outputs": [
        {
          "ename": "TypeError",
          "evalue": "'set' object is not subscriptable",
          "output_type": "error",
          "traceback": [
            "\u001b[1;31m---------------------------------------------------------------------------\u001b[0m",
            "\u001b[1;31mTypeError\u001b[0m                                 Traceback (most recent call last)",
            "Cell \u001b[1;32mIn [86], line 1\u001b[0m\n\u001b[1;32m----> 1\u001b[0m sVal[\u001b[39m1\u001b[39;49m:\u001b[39m2\u001b[39;49m]\n",
            "\u001b[1;31mTypeError\u001b[0m: 'set' object is not subscriptable"
          ]
        }
      ],
      "source": [
        "sVal[1:2]"
      ]
    },
    {
      "cell_type": "code",
      "execution_count": null,
      "metadata": {
        "id": "OVpUjxM0wPwi",
        "outputId": "c59f436c-e259-4958-f762-686844af56d6"
      },
      "outputs": [
        {
          "name": "stdout",
          "output_type": "stream",
          "text": [
            "{1, 2, 3, 4, 5, 100}\n"
          ]
        }
      ],
      "source": [
        "sVal.add(100)\n",
        "print(sVal)"
      ]
    },
    {
      "cell_type": "code",
      "execution_count": null,
      "metadata": {
        "id": "F3dtzIKSwPwi",
        "outputId": "9f5dbcaf-7ac5-4dd7-a404-90f520dac9ec"
      },
      "outputs": [
        {
          "name": "stdout",
          "output_type": "stream",
          "text": [
            "{1, 2, 3, 4, 5, 100, 200, 300}\n"
          ]
        }
      ],
      "source": [
        "sVal.update([200, 300])\n",
        "print(sVal)"
      ]
    },
    {
      "cell_type": "code",
      "execution_count": null,
      "metadata": {
        "id": "9HylTaA5wPwj",
        "outputId": "668c4c8a-67d7-443a-c80b-a81e8042666e"
      },
      "outputs": [
        {
          "name": "stdout",
          "output_type": "stream",
          "text": [
            "{1, 2, 3, 4, 5, 100, 300}\n"
          ]
        }
      ],
      "source": [
        "sVal.remove(200)\n",
        "print(sVal)"
      ]
    },
    {
      "cell_type": "code",
      "execution_count": null,
      "metadata": {
        "id": "xzhNhjstwPwj",
        "outputId": "7f0e79ad-2ca3-4427-a899-8eaec6d5e7a8"
      },
      "outputs": [
        {
          "name": "stdout",
          "output_type": "stream",
          "text": [
            "set()\n"
          ]
        }
      ],
      "source": [
        "sVal.clear()\n",
        "print(sVal)"
      ]
    },
    {
      "cell_type": "code",
      "execution_count": null,
      "metadata": {
        "id": "eJ4RN-SuwPwj",
        "outputId": "cf526292-ea5a-4110-b73c-1c38a6113f18"
      },
      "outputs": [
        {
          "name": "stdout",
          "output_type": "stream",
          "text": [
            "{400, 100, 500, 200, 300}\n",
            "{100, 'c', 'b', 'a', 300}\n"
          ]
        }
      ],
      "source": [
        "sVal = {100, 200, 300, 400, 500}\n",
        "sData = {\"a\", \"b\", \"c\", \"c\", 100, 300}\n",
        "print(sVal)\n",
        "print(sData)"
      ]
    },
    {
      "cell_type": "code",
      "execution_count": null,
      "metadata": {
        "id": "_guGHWJ4wPwj",
        "outputId": "db80875b-7483-4e14-889e-02ce0c8d4324"
      },
      "outputs": [
        {
          "data": {
            "text/plain": [
              "{100, 300}"
            ]
          },
          "execution_count": 92,
          "metadata": {},
          "output_type": "execute_result"
        }
      ],
      "source": [
        "sVal.intersection(sData)"
      ]
    },
    {
      "cell_type": "code",
      "execution_count": null,
      "metadata": {
        "id": "oFBanrCpwPwk",
        "outputId": "c3203725-5a8a-4932-bc19-789248e95397"
      },
      "outputs": [
        {
          "data": {
            "text/plain": [
              "{200, 400, 500}"
            ]
          },
          "execution_count": 93,
          "metadata": {},
          "output_type": "execute_result"
        }
      ],
      "source": [
        "sVal.difference(sData)"
      ]
    },
    {
      "cell_type": "code",
      "execution_count": null,
      "metadata": {
        "id": "NLMT5thwwPwk",
        "outputId": "17b49195-791f-4cb4-cea6-19e9888d76cd"
      },
      "outputs": [
        {
          "data": {
            "text/plain": [
              "{200, 400, 500}"
            ]
          },
          "execution_count": 94,
          "metadata": {},
          "output_type": "execute_result"
        }
      ],
      "source": [
        "sVal - sData"
      ]
    },
    {
      "cell_type": "code",
      "execution_count": null,
      "metadata": {
        "id": "0JWcYrLEwPwk",
        "outputId": "8793a3b0-f918-4f6c-c847-e4636fc22281"
      },
      "outputs": [
        {
          "data": {
            "text/plain": [
              "{100, 200, 300, 400, 500, 'a', 'b', 'c'}"
            ]
          },
          "execution_count": 95,
          "metadata": {},
          "output_type": "execute_result"
        }
      ],
      "source": [
        "sVal.union(sData)"
      ]
    },
    {
      "cell_type": "code",
      "execution_count": null,
      "metadata": {
        "id": "SKpkeP2lwPwk",
        "outputId": "372ceab7-5756-477d-be62-edd69f8da3d6"
      },
      "outputs": [
        {
          "ename": "TypeError",
          "evalue": "unsupported operand type(s) for +: 'set' and 'set'",
          "output_type": "error",
          "traceback": [
            "\u001b[1;31m---------------------------------------------------------------------------\u001b[0m",
            "\u001b[1;31mTypeError\u001b[0m                                 Traceback (most recent call last)",
            "Cell \u001b[1;32mIn [96], line 1\u001b[0m\n\u001b[1;32m----> 1\u001b[0m sVal \u001b[39m+\u001b[39;49m sData\n",
            "\u001b[1;31mTypeError\u001b[0m: unsupported operand type(s) for +: 'set' and 'set'"
          ]
        }
      ],
      "source": [
        "sVal + sData"
      ]
    },
    {
      "cell_type": "code",
      "execution_count": null,
      "metadata": {
        "id": "Wa5ZFF7-wPwl",
        "outputId": "1cc7dcbb-edd6-402a-8d87-74de071cdb6c"
      },
      "outputs": [
        {
          "data": {
            "text/plain": [
              "{200, 400, 500, 'a', 'b', 'c'}"
            ]
          },
          "execution_count": 97,
          "metadata": {},
          "output_type": "execute_result"
        }
      ],
      "source": [
        "sVal.symmetric_difference(sData)"
      ]
    },
    {
      "cell_type": "code",
      "execution_count": null,
      "metadata": {
        "id": "0xSpFycMwPwl",
        "outputId": "f821bd50-ee94-4e60-dd59-8450c633dc7c"
      },
      "outputs": [
        {
          "name": "stdout",
          "output_type": "stream",
          "text": [
            "{'name': '이컴공', 'email': 'computer@hoseo.edu', 'address': '충남 아산시'}\n",
            "<class 'dict'>\n"
          ]
        }
      ],
      "source": [
        "dVal = {\n",
        "    'name' : '이컴공',\n",
        "    'email' : 'computer@hoseo.edu',\n",
        "    'address' : '충남 아산시'\n",
        "}\n",
        "print(dVal)\n",
        "print(type(dVal))"
      ]
    },
    {
      "cell_type": "code",
      "execution_count": null,
      "metadata": {
        "id": "f1f6LtRnwPwl"
      },
      "outputs": [],
      "source": [
        "dData = {\n",
        "    \"사과\" : 300, \n",
        "    \"포도\" : 200, \n",
        "    \"배\" : 500,\n",
        "    \"키위\" : 100\n",
        "}"
      ]
    },
    {
      "cell_type": "code",
      "execution_count": null,
      "metadata": {
        "id": "EqUD5vSSwPwl",
        "outputId": "ee029c29-6229-4791-ac7a-b9e4f5c89694"
      },
      "outputs": [
        {
          "name": "stdout",
          "output_type": "stream",
          "text": [
            "500\n"
          ]
        }
      ],
      "source": [
        "print(dData[\"배\"])"
      ]
    },
    {
      "cell_type": "code",
      "execution_count": null,
      "metadata": {
        "id": "3ahSIT20wPwm",
        "outputId": "b431f939-1f06-455e-f922-6371f0f4d35a"
      },
      "outputs": [
        {
          "data": {
            "text/plain": [
              "500"
            ]
          },
          "execution_count": 112,
          "metadata": {},
          "output_type": "execute_result"
        }
      ],
      "source": [
        "dData.get(\"배\")"
      ]
    },
    {
      "cell_type": "code",
      "execution_count": null,
      "metadata": {
        "id": "2FxWNo-AwPwm",
        "outputId": "5cbce6c1-c470-4f17-c01b-d479f878a341"
      },
      "outputs": [
        {
          "name": "stdout",
          "output_type": "stream",
          "text": [
            "{'사과': 300, '포도': 200, '배': 500, '키위': 100, '딸기': 100}\n"
          ]
        }
      ],
      "source": [
        "dData[\"딸기\"] = 100\n",
        "print(dData)"
      ]
    },
    {
      "cell_type": "code",
      "execution_count": null,
      "metadata": {
        "id": "TXx6Ebg3wPwm",
        "outputId": "efc0262a-1dfb-4d10-ec5d-07995dd6f953"
      },
      "outputs": [
        {
          "data": {
            "text/plain": [
              "300"
            ]
          },
          "execution_count": 114,
          "metadata": {},
          "output_type": "execute_result"
        }
      ],
      "source": [
        "dData.pop(\"사과\")\n"
      ]
    },
    {
      "cell_type": "code",
      "execution_count": null,
      "metadata": {
        "id": "HWDZCcJ1wPwm",
        "outputId": "b1a4f5f0-00e1-47c7-cc6e-407589b3b103"
      },
      "outputs": [
        {
          "data": {
            "text/plain": [
              "{'포도': 200, '배': 500, '키위': 100, '딸기': 100}"
            ]
          },
          "execution_count": 115,
          "metadata": {},
          "output_type": "execute_result"
        }
      ],
      "source": [
        "dData"
      ]
    },
    {
      "cell_type": "code",
      "execution_count": null,
      "metadata": {
        "id": "WOxAXalewPwn",
        "outputId": "8acf05a7-e467-4117-df57-9bfb197417c3"
      },
      "outputs": [
        {
          "ename": "TypeError",
          "evalue": "pop expected at least 1 argument, got 0",
          "output_type": "error",
          "traceback": [
            "\u001b[1;31m---------------------------------------------------------------------------\u001b[0m",
            "\u001b[1;31mTypeError\u001b[0m                                 Traceback (most recent call last)",
            "Cell \u001b[1;32mIn [116], line 1\u001b[0m\n\u001b[1;32m----> 1\u001b[0m dData\u001b[39m.\u001b[39;49mpop()\n",
            "\u001b[1;31mTypeError\u001b[0m: pop expected at least 1 argument, got 0"
          ]
        }
      ],
      "source": [
        "dData.pop()"
      ]
    },
    {
      "cell_type": "code",
      "execution_count": null,
      "metadata": {
        "id": "4Ts8Vye0wPwn",
        "outputId": "851e26b0-c8fd-4a1b-b648-f69d74f1ac5a"
      },
      "outputs": [
        {
          "data": {
            "text/plain": [
              "['딸기', '배', '키위', '포도']"
            ]
          },
          "execution_count": 117,
          "metadata": {},
          "output_type": "execute_result"
        }
      ],
      "source": [
        "sorted(dData)"
      ]
    },
    {
      "cell_type": "code",
      "execution_count": null,
      "metadata": {
        "id": "-wLd1a1DwPwn",
        "outputId": "6f5b7cf6-2646-4a21-96db-e0e15c7ac12b"
      },
      "outputs": [
        {
          "data": {
            "text/plain": [
              "[100, 100, 200, 500]"
            ]
          },
          "execution_count": 118,
          "metadata": {},
          "output_type": "execute_result"
        }
      ],
      "source": [
        "sorted(dData.values())"
      ]
    },
    {
      "cell_type": "code",
      "execution_count": null,
      "metadata": {
        "id": "iG8O92nfwPwn",
        "outputId": "6a9354f6-87a3-404a-9740-a1b80c93ca6c"
      },
      "outputs": [
        {
          "data": {
            "text/plain": [
              "{'포도': 200, '배': 500, '키위': 100, '딸기': 100}"
            ]
          },
          "execution_count": 119,
          "metadata": {},
          "output_type": "execute_result"
        }
      ],
      "source": [
        "dData"
      ]
    },
    {
      "cell_type": "code",
      "execution_count": null,
      "metadata": {
        "id": "pZ0daGtKwPwo"
      },
      "outputs": [],
      "source": [
        "def f(x):\n",
        "  # x에 10을 더한 값을 출력\n",
        "  return x + 10"
      ]
    },
    {
      "cell_type": "code",
      "execution_count": null,
      "metadata": {
        "id": "Qva_kZ53wPwo",
        "outputId": "266a5e41-c24d-449b-e2b1-9583ba589cfb"
      },
      "outputs": [
        {
          "data": {
            "text/plain": [
              "12"
            ]
          },
          "execution_count": 121,
          "metadata": {},
          "output_type": "execute_result"
        }
      ],
      "source": [
        "f(2)"
      ]
    },
    {
      "cell_type": "code",
      "execution_count": null,
      "metadata": {
        "id": "MititTxIwPwp"
      },
      "outputs": [],
      "source": []
    }
  ],
  "metadata": {
    "kernelspec": {
      "display_name": "Python 3.9.7 ('base')",
      "language": "python",
      "name": "python3"
    },
    "language_info": {
      "codemirror_mode": {
        "name": "ipython",
        "version": 3
      },
      "file_extension": ".py",
      "mimetype": "text/x-python",
      "name": "python",
      "nbconvert_exporter": "python",
      "pygments_lexer": "ipython3",
      "version": "3.9.7"
    },
    "orig_nbformat": 4,
    "vscode": {
      "interpreter": {
        "hash": "b5458f2fcbcc18bdb324c73384cccd8abe80ba508e4363e8895ca5b6965f30b8"
      }
    },
    "colab": {
      "provenance": [],
      "include_colab_link": true
    }
  },
  "nbformat": 4,
  "nbformat_minor": 0
}